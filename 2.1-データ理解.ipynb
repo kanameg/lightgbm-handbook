{
 "cells": [
  {
   "cell_type": "code",
   "execution_count": null,
   "id": "d995b34d",
   "metadata": {},
   "outputs": [],
   "source": [
    "!lscpu"
   ]
  },
  {
   "cell_type": "code",
   "execution_count": null,
   "id": "6d80316a",
   "metadata": {},
   "outputs": [],
   "source": [
    "%matplotlib inline\n",
    "import matplotlib.pyplot as plt\n",
    "import numpy as np\n",
    "import seaborn as sns\n",
    "import pandas as pd"
   ]
  },
  {
   "cell_type": "code",
   "execution_count": null,
   "id": "873a393e",
   "metadata": {},
   "outputs": [],
   "source": [
    "df = pd.read_csv(\n",
    "    \"https://archive.ics.uci.edu/ml/machine-learning-databases/housing/housing.data\",\n",
    "    header=None,\n",
    "    sep=\"\\s+\",\n",
    ")\n",
    "df.columns = [\n",
    "    \"CRIM\",\n",
    "    \"ZN\",\n",
    "    \"INDUS\",\n",
    "    \"CHAS\",\n",
    "    \"NOX\",\n",
    "    \"RM\",\n",
    "    \"AGE\",\n",
    "    \"DIS\",\n",
    "    \"RAD\",\n",
    "    \"TAX\",\n",
    "    \"PTRATIO\",\n",
    "    \"B\",\n",
    "    \"LSTAT\",\n",
    "    \"MEDV\",\n",
    "]\n",
    "df.head()"
   ]
  },
  {
   "cell_type": "code",
   "execution_count": null,
   "id": "3c19f9ad",
   "metadata": {},
   "outputs": [],
   "source": [
    "# データの形状\n",
    "df.shape"
   ]
  },
  {
   "cell_type": "code",
   "execution_count": null,
   "id": "d42294be",
   "metadata": {},
   "outputs": [],
   "source": [
    "# 欠損データの有無\n",
    "df.isnull().sum()"
   ]
  },
  {
   "cell_type": "code",
   "execution_count": null,
   "id": "561f0bfc",
   "metadata": {},
   "outputs": [],
   "source": [
    "# データの概要\n",
    "df.info()"
   ]
  },
  {
   "cell_type": "code",
   "execution_count": null,
   "id": "40864613",
   "metadata": {},
   "outputs": [],
   "source": [
    "# 1変数EDA\n",
    "df[\"MEDV\"].describe()"
   ]
  },
  {
   "cell_type": "code",
   "execution_count": null,
   "id": "a19128bc",
   "metadata": {},
   "outputs": [],
   "source": [
    "# 住宅価格のヒストグラム\n",
    "df[\"MEDV\"].hist(bins=30)"
   ]
  },
  {
   "cell_type": "code",
   "execution_count": null,
   "id": "76d8ae59",
   "metadata": {},
   "outputs": [],
   "source": [
    "# 2変数EDA\n",
    "plt.figure(figsize=(12, 10))\n",
    "df_corr = df.corr()\n",
    "sns.heatmap(df_corr, vmax=1, vmin=-1, center=0, annot=True, cmap=\"Blues\")"
   ]
  },
  {
   "cell_type": "code",
   "execution_count": null,
   "id": "97072aa8",
   "metadata": {},
   "outputs": [],
   "source": [
    "num_cols = [\"LSTAT\", \"RM\", \"MEDV\"]\n",
    "sns.pairplot(df[num_cols], size=2.5)\n",
    "# sns.pairplot(df[num_cols], height=2.5)"
   ]
  },
  {
   "cell_type": "markdown",
   "id": "5c77d681",
   "metadata": {
    "vscode": {
     "languageId": "latex"
    }
   },
   "source": [
    "#### 回帰の評価指標\n",
    "$$\n",
    "予測値 = \\hat{y}_i \\\\\n",
    "平均値 = \\bar{y} = \\frac{1}{n} \\sum_{i=1}^{n}y_i\n",
    "$$\n",
    "\n",
    "平均二乗誤差\n",
    "$$\n",
    "MSE = \\frac{1}{n} \\sum_{i=1}^{n}(y_i - \\hat{y}_i)^2\n",
    "$$\n",
    "\n",
    "二乗平均平方誤差\n",
    "$$\n",
    "RMSE = \\sqrt{\\frac{1}{n} \\sum_{i=1}^{n}(y_i - \\hat{y}_i)^2}\n",
    " = \\sqrt{MSE}\n",
    "$$\n",
    "\n",
    "R2（決定係数）\n",
    "$$\n",
    "R^2 = 1 - \\frac{\\sum_{i=1}^{n}(y_i - \\hat{y}_i)^2}{\\sum_{i=1}^{n}(y_i - \\bar{y})^2}\n",
    "= 1 - \\frac{SS_{res}}{SS_{tot}}\n",
    "$$\n",
    "\n",
    "平均絶対誤差\n",
    "$$\n",
    "MAE = \\frac{1}{n} \\sum_{i=1}^{n}|y_i - \\hat{y}_i|\n",
    "$$"
   ]
  },
  {
   "cell_type": "code",
   "execution_count": null,
   "id": "b8c2526f",
   "metadata": {},
   "outputs": [],
   "source": [
    "from random import seed\n",
    "\n",
    "import sklearn.metrics as metrics\n",
    "\n",
    "df_pred = df.copy()\n",
    "# 乱数で誤差を加える\n",
    "r = np.random.seed(42)  # 初期値固定\n",
    "r = np.random.uniform(0, 10, df_pred[\"MEDV\"].shape)\n",
    "df_pred[\"MEDV\"] = df_pred[\"MEDV\"] + r"
   ]
  },
  {
   "cell_type": "code",
   "execution_count": null,
   "id": "5f3f53e7",
   "metadata": {},
   "outputs": [],
   "source": [
    "# MSEの計算\n",
    "mse = metrics.mean_squared_error(df[\"MEDV\"], df_pred[\"MEDV\"])\n",
    "mse"
   ]
  },
  {
   "cell_type": "code",
   "execution_count": null,
   "id": "dae73cd4",
   "metadata": {},
   "outputs": [],
   "source": [
    "np.sqrt(mse)"
   ]
  },
  {
   "cell_type": "code",
   "execution_count": null,
   "id": "7f86c256",
   "metadata": {},
   "outputs": [],
   "source": [
    "# RMSEの計算\n",
    "rmse = metrics.root_mean_squared_error(df[\"MEDV\"], df_pred[\"MEDV\"])\n",
    "rmse"
   ]
  },
  {
   "cell_type": "code",
   "execution_count": null,
   "id": "69d76a0c",
   "metadata": {},
   "outputs": [],
   "source": [
    "# R2の計算\n",
    "r2 = metrics.r2_score(df[\"MEDV\"], df_pred[\"MEDV\"])\n",
    "r2"
   ]
  },
  {
   "cell_type": "code",
   "execution_count": null,
   "id": "23cc79b9",
   "metadata": {},
   "outputs": [],
   "source": [
    "# MAEの計算\n",
    "mae = metrics.mean_absolute_error(df[\"MEDV\"], df_pred[\"MEDV\"])\n",
    "mae"
   ]
  }
 ],
 "metadata": {
  "kernelspec": {
   "display_name": "Python 3",
   "language": "python",
   "name": "python3"
  },
  "language_info": {
   "codemirror_mode": {
    "name": "ipython",
    "version": 3
   },
   "file_extension": ".py",
   "mimetype": "text/x-python",
   "name": "python",
   "nbconvert_exporter": "python",
   "pygments_lexer": "ipython3",
   "version": "3.10.13"
  }
 },
 "nbformat": 4,
 "nbformat_minor": 5
}
