{
 "cells": [
  {
   "cell_type": "code",
   "execution_count": null,
   "id": "d995b34d",
   "metadata": {},
   "outputs": [],
   "source": [
    "!lscpu"
   ]
  },
  {
   "cell_type": "code",
   "execution_count": null,
   "id": "6d80316a",
   "metadata": {},
   "outputs": [],
   "source": [
    "%matplotlib inline\n",
    "import matplotlib.pyplot as plt\n",
    "import numpy as np\n",
    "import pandas as pd\n",
    "import graphviz\n",
    "from sklearn.metrics import mean_squared_error"
   ]
  },
  {
   "cell_type": "code",
   "execution_count": null,
   "id": "873a393e",
   "metadata": {},
   "outputs": [],
   "source": [
    "df = pd.read_csv(\n",
    "    \"https://archive.ics.uci.edu/ml/machine-learning-databases/housing/housing.data\",\n",
    "    header=None,\n",
    "    sep=\"\\s+\",\n",
    ")\n",
    "df.columns = [\n",
    "    \"CRIM\",\n",
    "    \"ZN\",\n",
    "    \"INDUS\",\n",
    "    \"CHAS\",\n",
    "    \"NOX\",\n",
    "    \"RM\",\n",
    "    \"AGE\",\n",
    "    \"DIS\",\n",
    "    \"RAD\",\n",
    "    \"TAX\",\n",
    "    \"PTRATIO\",\n",
    "    \"B\",\n",
    "    \"LSTAT\",\n",
    "    \"MEDV\",\n",
    "]\n",
    "df.head()"
   ]
  },
  {
   "cell_type": "code",
   "execution_count": null,
   "id": "4b570e26",
   "metadata": {},
   "outputs": [],
   "source": [
    "X_train = df.loc[:99, [\"RM\"]]\n",
    "y_train = df.loc[:99, \"MEDV\"]\n",
    "print(\"X_train:\", X_train[:3])\n",
    "print(\"y_train:\", y_train[:3])"
   ]
  },
  {
   "cell_type": "code",
   "execution_count": null,
   "id": "7fc328e3",
   "metadata": {},
   "outputs": [],
   "source": [
    "# 回帰木\n",
    "# モデルの学習\n",
    "from sklearn.tree import DecisionTreeRegressor\n",
    "\n",
    "model = DecisionTreeRegressor(\n",
    "    criterion=\"squared_error\", max_depth=1, min_samples_leaf=1, random_state=0\n",
    ")  # 回帰木モデルの定義\n",
    "model.fit(X_train, y_train)\n",
    "model.get_params()"
   ]
  },
  {
   "cell_type": "code",
   "execution_count": null,
   "id": "909875b9",
   "metadata": {},
   "outputs": [],
   "source": [
    "# 予測値\n",
    "model.predict(X_train)"
   ]
  },
  {
   "cell_type": "code",
   "execution_count": null,
   "id": "9b396130",
   "metadata": {},
   "outputs": [],
   "source": [
    "# 木の可視化\n",
    "import pydot\n",
    "from IPython import display\n",
    "from sklearn import tree\n",
    "\n",
    "dot_data = tree.export_graphviz(\n",
    "    model, out_file=None, rounded=True, feature_names=[\"RM\"], filled=True\n",
    ")\n",
    "# graphviz.Source(dot_data, format=\"png\")\n",
    "# この部分を以下のように変更\n",
    "graphs = pydot.graph_from_dot_data(dot_data)\n",
    "png_data = graphs[0].create_png(prog=\"dot\")\n",
    "display.display(display.Image(png_data))"
   ]
  },
  {
   "cell_type": "code",
   "execution_count": null,
   "id": "cabd5ce8",
   "metadata": {},
   "outputs": [],
   "source": [
    "# データと予測値の可視化\n",
    "plt.figure(figsize=(8, 4))\n",
    "X = X_train.values.flatten()\n",
    "y = y_train.values\n",
    "\n",
    "X_plt = np.arange(X.min(), X.max(), 0.01)[:, np.newaxis]\n",
    "y_pred = model.predict(X_plt)\n",
    "\n",
    "plt.scatter(X, y, color=\"blue\", label=\"data\")\n",
    "plt.plot(X_plt, y_pred, color=\"red\", label=\"LinearRegression\")\n",
    "plt.ylabel(\"Price in $1000s [MDEV]\")\n",
    "plt.xlabel(\"average number of rooms [RM]\")\n",
    "plt.title(\"Boston house-prices\")\n",
    "plt.legend(loc=\"upper right\")\n",
    "plt.show()"
   ]
  },
  {
   "cell_type": "code",
   "execution_count": null,
   "id": "1bea6228",
   "metadata": {},
   "outputs": [],
   "source": [
    "# 深さ2の回帰木"
   ]
  },
  {
   "cell_type": "code",
   "execution_count": null,
   "id": "7286f197",
   "metadata": {},
   "outputs": [],
   "source": [
    "%matplotlib inline\n",
    "import matplotlib.pyplot as plt\n",
    "import numpy as np\n",
    "import pandas as pd\n",
    "from sklearn.model_selection import train_test_split\n",
    "from sklearn.metrics import mean_squared_error, root_mean_squared_error"
   ]
  },
  {
   "cell_type": "code",
   "execution_count": null,
   "id": "ca01c11d",
   "metadata": {},
   "outputs": [],
   "source": [
    "df = pd.read_csv(\n",
    "    \"https://archive.ics.uci.edu/ml/machine-learning-databases/housing/housing.data\",\n",
    "    header=None,\n",
    "    sep=\"\\s+\",\n",
    ")\n",
    "df.columns = [\n",
    "    \"CRIM\",\n",
    "    \"ZN\",\n",
    "    \"INDUS\",\n",
    "    \"CHAS\",\n",
    "    \"NOX\",\n",
    "    \"RM\",\n",
    "    \"AGE\",\n",
    "    \"DIS\",\n",
    "    \"RAD\",\n",
    "    \"TAX\",\n",
    "    \"PTRATIO\",\n",
    "    \"B\",\n",
    "    \"LSTAT\",\n",
    "    \"MEDV\",\n",
    "]\n",
    "df.head()"
   ]
  },
  {
   "cell_type": "code",
   "execution_count": null,
   "id": "cd08ab86",
   "metadata": {},
   "outputs": [],
   "source": [
    "X_train = df.loc[:99, [\"RM\"]]\n",
    "y_train = df.loc[:99, \"MEDV\"]\n",
    "print(\"X_train:\", X_train[:3])\n",
    "print(\"y_train:\", y_train[:3])"
   ]
  },
  {
   "cell_type": "code",
   "execution_count": null,
   "id": "dfce3777",
   "metadata": {},
   "outputs": [],
   "source": [
    "# 回帰木\n",
    "# モデルの学習\n",
    "from sklearn.tree import DecisionTreeRegressor\n",
    "\n",
    "model = DecisionTreeRegressor(\n",
    "    criterion=\"squared_error\",\n",
    "    max_depth=2,\n",
    "    min_samples_leaf=1,\n",
    "    ccp_alpha=0,\n",
    "    random_state=0,\n",
    ")  # 回帰木モデルの定義\n",
    "model.fit(X_train, y_train)\n",
    "model.get_params()"
   ]
  },
  {
   "cell_type": "code",
   "execution_count": null,
   "id": "5b89d5fb",
   "metadata": {},
   "outputs": [],
   "source": [
    "model.predict(X_train)"
   ]
  },
  {
   "cell_type": "code",
   "execution_count": null,
   "id": "cf54f1e2",
   "metadata": {},
   "outputs": [],
   "source": [
    "# 木の可視化\n",
    "import pydot\n",
    "from IPython import display\n",
    "from sklearn import tree\n",
    "\n",
    "dot_data = tree.export_graphviz(\n",
    "    model, out_file=None, rounded=True, feature_names=[\"RM\"], filled=True\n",
    ")\n",
    "# graphviz.Source(dot_data, format=\"png\")\n",
    "# この部分を以下のように変更\n",
    "graphs = pydot.graph_from_dot_data(dot_data)\n",
    "png_data = graphs[0].create_png(prog=\"dot\")\n",
    "display.display(display.Image(png_data))"
   ]
  },
  {
   "cell_type": "code",
   "execution_count": null,
   "id": "9ef89f5f",
   "metadata": {},
   "outputs": [],
   "source": [
    "# データと予測値の可視化\n",
    "plt.figure(figsize=(8, 4))\n",
    "X = X_train.values.flatten()\n",
    "y = y_train.values\n",
    "\n",
    "X_plt = np.arange(X.min(), X.max(), 0.01)[:, np.newaxis]\n",
    "y_pred = model.predict(X_plt)\n",
    "\n",
    "plt.scatter(X, y, color=\"blue\", label=\"data\")\n",
    "plt.plot(X_plt, y_pred, color=\"red\", label=\"LinearRegression\")\n",
    "plt.ylabel(\"Price in $1000s [MDEV]\")\n",
    "plt.xlabel(\"average number of rooms [RM]\")\n",
    "plt.title(\"Boston house-prices\")\n",
    "plt.legend(loc=\"upper right\")\n",
    "plt.show()"
   ]
  },
  {
   "cell_type": "code",
   "execution_count": null,
   "id": "d1b93bb4",
   "metadata": {},
   "outputs": [],
   "source": [
    "# 回帰木の正則化"
   ]
  },
  {
   "cell_type": "code",
   "execution_count": null,
   "id": "27c02bf8",
   "metadata": {},
   "outputs": [],
   "source": [
    "%matplotlib inline\n",
    "import matplotlib.pyplot as plt\n",
    "import numpy as np\n",
    "import pandas as pd\n",
    "from sklearn.model_selection import train_test_split\n",
    "from sklearn.metrics import mean_squared_error, root_mean_squared_error"
   ]
  },
  {
   "cell_type": "code",
   "execution_count": null,
   "id": "67509dee",
   "metadata": {},
   "outputs": [],
   "source": [
    "df = pd.read_csv(\n",
    "    \"https://archive.ics.uci.edu/ml/machine-learning-databases/housing/housing.data\",\n",
    "    header=None,\n",
    "    sep=\"\\s+\",\n",
    ")\n",
    "df.columns = [\n",
    "    \"CRIM\",\n",
    "    \"ZN\",\n",
    "    \"INDUS\",\n",
    "    \"CHAS\",\n",
    "    \"NOX\",\n",
    "    \"RM\",\n",
    "    \"AGE\",\n",
    "    \"DIS\",\n",
    "    \"RAD\",\n",
    "    \"TAX\",\n",
    "    \"PTRATIO\",\n",
    "    \"B\",\n",
    "    \"LSTAT\",\n",
    "    \"MEDV\",\n",
    "]\n",
    "df.head()"
   ]
  },
  {
   "cell_type": "code",
   "execution_count": null,
   "id": "44ede9da",
   "metadata": {},
   "outputs": [],
   "source": [
    "X = df.drop([\"MEDV\"], axis=1)\n",
    "y = df[\"MEDV\"]\n",
    "X.head()"
   ]
  },
  {
   "cell_type": "code",
   "execution_count": null,
   "id": "065a4f6b",
   "metadata": {},
   "outputs": [],
   "source": [
    "# 学習データとテストデータに分割\n",
    "from numpy import test\n",
    "\n",
    "X_train, X_test, y_train, y_test = train_test_split(\n",
    "    X, y, test_size=0.2, shuffle=True, random_state=0\n",
    ")\n",
    "print(\"X_trainの形状:\", X_train.shape)\n",
    "print(\"y_trainの形状:\", y_train.shape)\n",
    "print(\"X_testの形状:\", X_test.shape)\n",
    "print(\"y_testの形状:\", y_test.shape)"
   ]
  },
  {
   "cell_type": "code",
   "execution_count": null,
   "id": "609cd9ab",
   "metadata": {},
   "outputs": [],
   "source": [
    "# 回帰木\n",
    "# モデルの学習\n",
    "from sklearn.tree import DecisionTreeRegressor\n",
    "\n",
    "model = DecisionTreeRegressor(\n",
    "    criterion=\"squared_error\",\n",
    "    max_depth=4,\n",
    "    min_samples_leaf=10,\n",
    "    ccp_alpha=5,\n",
    "    random_state=0,\n",
    ")  # 回帰木モデルの定義\n",
    "model.fit(X_train, y_train)\n",
    "model.get_params()"
   ]
  },
  {
   "cell_type": "code",
   "execution_count": null,
   "id": "91c79e38",
   "metadata": {},
   "outputs": [],
   "source": [
    "# テストデータでの予測と評価\n",
    "y_test_pred = model.predict(X_test)\n",
    "print(\"RMSE test: %.2f\" % root_mean_squared_error(y_test, y_test_pred))"
   ]
  },
  {
   "cell_type": "code",
   "execution_count": null,
   "id": "50cf003a",
   "metadata": {},
   "outputs": [],
   "source": [
    "# 予測値\n",
    "model.predict(X_test)"
   ]
  },
  {
   "cell_type": "code",
   "execution_count": null,
   "id": "c12d571b",
   "metadata": {},
   "outputs": [],
   "source": [
    "# 木の可視化\n",
    "import pydot\n",
    "from IPython import display\n",
    "from sklearn import tree\n",
    "\n",
    "dot_data = tree.export_graphviz(\n",
    "    model, out_file=None, rounded=True, feature_names=X.columns, filled=True\n",
    ")\n",
    "# graphviz.Source(dot_data, format=\"png\")\n",
    "# この部分を以下のように変更\n",
    "graphs = pydot.graph_from_dot_data(dot_data)\n",
    "png_data = graphs[0].create_png(prog=\"dot\")\n",
    "display.display(display.Image(png_data))"
   ]
  },
  {
   "cell_type": "code",
   "execution_count": null,
   "id": "f8c4216f",
   "metadata": {},
   "outputs": [],
   "source": [
    "# 特徴量の重要度の可視化\n",
    "importances = model.feature_importances_\n",
    "indices = np.argsort(importances)[::-1]\n",
    "\n",
    "plt.figure(figsize=(8, 4))\n",
    "plt.title(\"Feature importances\")\n",
    "plt.bar(range(len(indices)), importances[indices])\n",
    "plt.xticks(range(len(indices)), X.columns[indices], rotation=90)\n",
    "plt.show()"
   ]
  },
  {
   "cell_type": "code",
   "execution_count": null,
   "id": "4ffd6e02",
   "metadata": {},
   "outputs": [],
   "source": []
  }
 ],
 "metadata": {
  "kernelspec": {
   "display_name": "Python 3",
   "language": "python",
   "name": "python3"
  },
  "language_info": {
   "codemirror_mode": {
    "name": "ipython",
    "version": 3
   },
   "file_extension": ".py",
   "mimetype": "text/x-python",
   "name": "python",
   "nbconvert_exporter": "python",
   "pygments_lexer": "ipython3",
   "version": "3.10.13"
  }
 },
 "nbformat": 4,
 "nbformat_minor": 5
}
