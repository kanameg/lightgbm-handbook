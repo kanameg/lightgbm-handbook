{
 "cells": [
  {
   "cell_type": "code",
   "execution_count": null,
   "id": "6d80316a",
   "metadata": {},
   "outputs": [],
   "source": [
    "%matplotlib inline\n",
    "import matplotlib.pyplot as plt\n",
    "import numpy as np\n",
    "import seaborn as sns\n",
    "import pandas as pd\n",
    "from sklearn.model_selection import train_test_split\n",
    "from sklearn.metrics import accuracy_score, precision_score, recall_score, f1_score, confusion_matrix"
   ]
  },
  {
   "cell_type": "code",
   "execution_count": null,
   "id": "873a393e",
   "metadata": {},
   "outputs": [],
   "source": [
    "# データセットの読み込み\n",
    "df = pd.read_csv(\n",
    "    \"https://archive.ics.uci.edu/ml/machine-learning-databases/adult/adult.data\",\n",
    "    header=None,\n",
    ")\n",
    "df.columns = [\n",
    "    \"age\",\n",
    "    \"workclass\",\n",
    "    \"fnlwgt\",\n",
    "    \"education\",\n",
    "    \"education-num\",\n",
    "    \"marital-status\",\n",
    "    \"occupation\",\n",
    "    \"relationship\",\n",
    "    \"race\",\n",
    "    \"gender\",\n",
    "    \"capital-gain\",\n",
    "    \"capital-loss\",\n",
    "    \"hours-per-week\",\n",
    "    \"native-country\",\n",
    "    \"income\",\n",
    "]\n",
    "df.head()"
   ]
  },
  {
   "cell_type": "code",
   "execution_count": null,
   "id": "3c19f9ad",
   "metadata": {},
   "outputs": [],
   "source": [
    "# データの形状\n",
    "df.shape"
   ]
  },
  {
   "cell_type": "code",
   "execution_count": null,
   "id": "d42294be",
   "metadata": {},
   "outputs": [],
   "source": [
    "# 欠損データの有無\n",
    "df.isnull().sum()"
   ]
  },
  {
   "cell_type": "code",
   "execution_count": null,
   "id": "561f0bfc",
   "metadata": {},
   "outputs": [],
   "source": [
    "# データの概要\n",
    "df.info()"
   ]
  },
  {
   "cell_type": "code",
   "execution_count": null,
   "id": "40864613",
   "metadata": {},
   "outputs": [],
   "source": [
    "# 数値変数のEDA\n",
    "# 数値の要約統計量\n",
    "df.describe().T"
   ]
  },
  {
   "cell_type": "code",
   "execution_count": null,
   "id": "a19128bc",
   "metadata": {},
   "outputs": [],
   "source": [
    "# 数値データのヒストグラム\n",
    "plt.rcParams[\"figure.figsize\"] = (10, 6)\n",
    "df.hist(bins=20)\n",
    "plt.tight_layout()\n",
    "plt.show()"
   ]
  },
  {
   "cell_type": "code",
   "execution_count": null,
   "id": "c96240dc",
   "metadata": {},
   "outputs": [],
   "source": [
    "# カテゴリ変数のEDA\n",
    "# カテゴリ変数の要約統計量\n",
    "cat_vars = df.select_dtypes(include=[\"object\"]).columns\n",
    "df[cat_vars].describe().T"
   ]
  },
  {
   "cell_type": "code",
   "execution_count": null,
   "id": "2096e772",
   "metadata": {},
   "outputs": [],
   "source": [
    "# カテゴリ変数の要約統計量\n",
    "df.describe(exclude=\"number\").T"
   ]
  },
  {
   "cell_type": "code",
   "execution_count": null,
   "id": "4d417de3",
   "metadata": {},
   "outputs": [],
   "source": [
    "# カテゴリ変数のリスト表示\n",
    "cat_cols = [\n",
    "    \"workclass\",\n",
    "    \"education\",\n",
    "    \"marital-status\",\n",
    "    \"occupation\",\n",
    "    \"relationship\",\n",
    "    \"race\",\n",
    "    \"gender\",\n",
    "    \"native-country\",\n",
    "    \"income\",\n",
    "]\n",
    "for col in cat_cols:\n",
    "    print(f\"{col}: {list(df[col].unique())}\")"
   ]
  },
  {
   "cell_type": "code",
   "execution_count": null,
   "id": "76d8ae59",
   "metadata": {},
   "outputs": [],
   "source": [
    "# カテゴリ変数の棒グラフ可視化\n",
    "cat_cols = df.select_dtypes(include=[\"object\"]).columns\n",
    "plt.rcParams[\"figure.figsize\"] = (12, 24)\n",
    "for i, col in enumerate(cat_cols):\n",
    "    ax = plt.subplot(5, 2, i + 1)\n",
    "    df[col].value_counts().plot(kind=\"bar\", ax=ax)\n",
    "\n",
    "plt.tight_layout()\n",
    "plt.show()"
   ]
  },
  {
   "cell_type": "code",
   "execution_count": null,
   "id": "a877b0cd",
   "metadata": {},
   "outputs": [],
   "source": [
    "# データの前処理"
   ]
  },
  {
   "cell_type": "code",
   "execution_count": null,
   "id": "5892eae0",
   "metadata": {},
   "outputs": [],
   "source": [
    "# 半角スペースの削除\n",
    "cat_cols = df.select_dtypes(include=[\"object\"]).columns\n",
    "\n",
    "for col in cat_cols:\n",
    "    df[col] = df[col].str.replace(\" \", \"\")"
   ]
  },
  {
   "cell_type": "code",
   "execution_count": null,
   "id": "19c1d572",
   "metadata": {},
   "outputs": [],
   "source": [
    "# カテゴリ変数のリスト表示\n",
    "for col in cat_cols:\n",
    "    print(f\"{col}: {list(df[col].unique())}\")"
   ]
  },
  {
   "cell_type": "code",
   "execution_count": null,
   "id": "94bc6a8d",
   "metadata": {},
   "outputs": [],
   "source": [
    "# レコードの絞り込み（United-Statesのみ）\n",
    "df = df[df[\"native-country\"] == \"United-States\"]\n",
    "df = df.drop(columns=[\"native-country\"], axis=1)\n",
    "df.reset_index(drop=True, inplace=True)\n",
    "df.shape"
   ]
  },
  {
   "cell_type": "code",
   "execution_count": null,
   "id": "5221c539",
   "metadata": {},
   "outputs": [],
   "source": [
    "# 前処理後のincome件数内訳\n",
    "df[\"income\"].value_counts()"
   ]
  },
  {
   "cell_type": "code",
   "execution_count": null,
   "id": "02f26956",
   "metadata": {},
   "outputs": [],
   "source": [
    "# 前処理後のincome件数の可視化\n",
    "plt.figure(figsize=(6, 3))\n",
    "sns.countplot(data=df, x=\"income\")"
   ]
  },
  {
   "cell_type": "code",
   "execution_count": null,
   "id": "23cc79b9",
   "metadata": {},
   "outputs": [],
   "source": [
    "# 正解ラベルの作成\n",
    "df[\"income\"] = df[\"income\"].apply(lambda x: 1 if x == \">50K\" else 0)"
   ]
  },
  {
   "cell_type": "code",
   "execution_count": null,
   "id": "14a94924",
   "metadata": {},
   "outputs": [],
   "source": [
    "# データセットの確認\n",
    "print(df.shape)\n",
    "df.head()"
   ]
  },
  {
   "cell_type": "code",
   "execution_count": null,
   "id": "cff4d1a4",
   "metadata": {},
   "outputs": [],
   "source": [
    "# 混同行列と正解率の検証"
   ]
  },
  {
   "cell_type": "code",
   "execution_count": null,
   "id": "fbe693de",
   "metadata": {},
   "outputs": [],
   "source": [
    "# 特徴量と正解ラベルの分割\n",
    "X = df.drop(columns=[\"income\"], axis=1)\n",
    "y = df[\"income\"]"
   ]
  },
  {
   "cell_type": "code",
   "execution_count": null,
   "id": "4cb76363",
   "metadata": {},
   "outputs": [],
   "source": [
    "# 学習データとテストデータの分割\n",
    "X_train, X_test, y_train, y_test = train_test_split(\n",
    "    X, y, test_size=0.2, shuffle=True, random_state=0, stratify=y\n",
    ")\n",
    "print(\"X_trainの形状:\", X_train.shape)\n",
    "print(\"y_trainの形状:\", y_train.shape)\n",
    "print(\"X_testの形状:\", X_test.shape)\n",
    "print(\"y_testの形状:\", y_test.shape)"
   ]
  },
  {
   "cell_type": "code",
   "execution_count": null,
   "id": "a15cc4fd",
   "metadata": {},
   "outputs": [],
   "source": [
    "print(\"y_trainの内訳:\\n\", y_train.value_counts())\n",
    "print(\"y_testの内訳:\\n\", y_test.value_counts())"
   ]
  },
  {
   "cell_type": "code",
   "execution_count": null,
   "id": "e5d0310f",
   "metadata": {},
   "outputs": [],
   "source": [
    "# 予測ラベル0の作成\n",
    "y_test_zero = np.zeros(5834)\n",
    "y_test_zero"
   ]
  },
  {
   "cell_type": "code",
   "execution_count": null,
   "id": "46e876d7",
   "metadata": {},
   "outputs": [],
   "source": [
    "# 予測ラベル0の混同行列の作成\n",
    "cm = confusion_matrix(y_test, y_test_zero)\n",
    "plt.figure(figsize=(6, 4))\n",
    "sns.heatmap(cm, annot=True, fmt=\"d\", cmap=\"Blues\")\n",
    "plt.xlabel(\"Predicted Label\")\n",
    "plt.ylabel(\"True Label\")\n",
    "plt.show()"
   ]
  },
  {
   "cell_type": "code",
   "execution_count": null,
   "id": "0a002d10",
   "metadata": {},
   "outputs": [],
   "source": [
    "# 予測ラベルの評価指標の計算\n",
    "ac_score = accuracy_score(y_test, y_test_zero)\n",
    "pr_score = precision_score(y_test, y_test_zero)\n",
    "rc_score = recall_score(y_test, y_test_zero)\n",
    "f1 = f1_score(y_test, y_test_zero)\n",
    "\n",
    "print(f\"Accuracy: {ac_score:.2f}\")\n",
    "print(f\"Precision: {pr_score:.2f}\")\n",
    "print(f\"Recall: {rc_score:.2f}\")\n",
    "print(f\"F1 Score: {f1:.2f}\")"
   ]
  },
  {
   "cell_type": "code",
   "execution_count": null,
   "id": "e107e649",
   "metadata": {},
   "outputs": [],
   "source": [
    "# 予測ラベル1の作成\n",
    "y_test_ones = np.ones(5834)\n",
    "y_test_ones"
   ]
  },
  {
   "cell_type": "code",
   "execution_count": null,
   "id": "eb91b344",
   "metadata": {},
   "outputs": [],
   "source": [
    "# 予測ラベル0の混同行列の作成\n",
    "cm = confusion_matrix(y_test, y_test_ones)\n",
    "plt.figure(figsize=(6, 4))\n",
    "sns.heatmap(cm, annot=True, fmt=\"d\", cmap=\"Blues\")\n",
    "plt.xlabel(\"Predicted Label\")\n",
    "plt.ylabel(\"True Label\")\n",
    "plt.show()"
   ]
  },
  {
   "cell_type": "code",
   "execution_count": null,
   "id": "f3313723",
   "metadata": {},
   "outputs": [],
   "source": [
    "# 予測ラベルの評価指標の計算\n",
    "ac_score = accuracy_score(y_test, y_test_ones)\n",
    "pr_score = precision_score(y_test, y_test_ones)\n",
    "rc_score = recall_score(y_test, y_test_ones)\n",
    "f1 = f1_score(y_test, y_test_ones)\n",
    "\n",
    "print(f\"Accuracy: {ac_score:.2f}\")\n",
    "print(f\"Precision: {pr_score:.2f}\")\n",
    "print(f\"Recall: {rc_score:.2f}\")\n",
    "print(f\"F1 Score: {f1:.2f}\")"
   ]
  },
  {
   "cell_type": "code",
   "execution_count": null,
   "id": "8f4ba3e1",
   "metadata": {},
   "outputs": [],
   "source": []
  }
 ],
 "metadata": {
  "kernelspec": {
   "display_name": "Python 3",
   "language": "python",
   "name": "python3"
  },
  "language_info": {
   "codemirror_mode": {
    "name": "ipython",
    "version": 3
   },
   "file_extension": ".py",
   "mimetype": "text/x-python",
   "name": "python",
   "nbconvert_exporter": "python",
   "pygments_lexer": "ipython3",
   "version": "3.10.13"
  }
 },
 "nbformat": 4,
 "nbformat_minor": 5
}
