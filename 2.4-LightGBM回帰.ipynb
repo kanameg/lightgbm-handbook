{
 "cells": [
  {
   "cell_type": "code",
   "execution_count": null,
   "id": "d995b34d",
   "metadata": {},
   "outputs": [],
   "source": [
    "!lscpu"
   ]
  },
  {
   "cell_type": "code",
   "execution_count": null,
   "id": "64a0e748",
   "metadata": {},
   "outputs": [],
   "source": [
    "# 深さ1のLightGBM回帰の可視化"
   ]
  },
  {
   "cell_type": "code",
   "execution_count": null,
   "id": "6d80316a",
   "metadata": {},
   "outputs": [],
   "source": [
    "%matplotlib inline\n",
    "import matplotlib.pyplot as plt\n",
    "import numpy as np\n",
    "import pandas as pd\n",
    "from sklearn.metrics import mean_squared_error"
   ]
  },
  {
   "cell_type": "code",
   "execution_count": null,
   "id": "873a393e",
   "metadata": {},
   "outputs": [],
   "source": [
    "# データセットの読み込み\n",
    "df = pd.read_csv(\n",
    "    \"https://archive.ics.uci.edu/ml/machine-learning-databases/housing/housing.data\",\n",
    "    header=None,\n",
    "    sep=\"\\s+\",\n",
    ")\n",
    "df.columns = [\n",
    "    \"CRIM\",\n",
    "    \"ZN\",\n",
    "    \"INDUS\",\n",
    "    \"CHAS\",\n",
    "    \"NOX\",\n",
    "    \"RM\",\n",
    "    \"AGE\",\n",
    "    \"DIS\",\n",
    "    \"RAD\",\n",
    "    \"TAX\",\n",
    "    \"PTRATIO\",\n",
    "    \"B\",\n",
    "    \"LSTAT\",\n",
    "    \"MEDV\",\n",
    "]\n",
    "df.head()"
   ]
  },
  {
   "cell_type": "code",
   "execution_count": null,
   "id": "4b570e26",
   "metadata": {},
   "outputs": [],
   "source": [
    "# 特徴量と目的変数の設定\n",
    "X_train = df.loc[:99, [\"RM\"]]\n",
    "y_train = df.loc[:99, \"MEDV\"]\n",
    "print(\"X_train:\", X_train[:3])\n",
    "print(\"y_train:\", y_train[:3])"
   ]
  },
  {
   "cell_type": "code",
   "execution_count": null,
   "id": "7fc328e3",
   "metadata": {},
   "outputs": [],
   "source": [
    "# ハイパーパラメータの設定\n",
    "import lightgbm as lgb\n",
    "\n",
    "lgb_train = lgb.Dataset(X_train, y_train)\n",
    "params = {\n",
    "    \"objective\": \"mse\",\n",
    "    \"metric\": \"mse\",\n",
    "    \"learning_rate\": 0.8,\n",
    "    \"max_depth\": 1,\n",
    "    \"min_data_in_leaf\": 1,\n",
    "    \"min_data_in_bin\": 1,\n",
    "    \"max_bin\": 100,\n",
    "    \"seed\": 0,\n",
    "    \"verbose\": -1,\n",
    "}"
   ]
  },
  {
   "cell_type": "code",
   "execution_count": null,
   "id": "775dc11a",
   "metadata": {},
   "outputs": [],
   "source": [
    "# モデルの学習\n",
    "model = lgb.train(\n",
    "    params, lgb_train, num_boost_round=1, valid_sets=[lgb_train], valid_names=[\"train\"]\n",
    ")"
   ]
  },
  {
   "cell_type": "code",
   "execution_count": null,
   "id": "909875b9",
   "metadata": {},
   "outputs": [],
   "source": [
    "# 学習データの予測と評価\n",
    "y_train_pred = model.predict(X_train)\n",
    "print(\"MSE train: %.2f\" % mean_squared_error(y_train, y_train_pred))"
   ]
  },
  {
   "cell_type": "code",
   "execution_count": null,
   "id": "0e5da1ac",
   "metadata": {},
   "outputs": [],
   "source": [
    "model.predict(X_train)"
   ]
  },
  {
   "cell_type": "code",
   "execution_count": null,
   "id": "f67ec4e5",
   "metadata": {},
   "outputs": [],
   "source": [
    "# 木の可視化\n",
    "lgb.plot_tree(model, tree_index=0, figsize=(8, 6))"
   ]
  },
  {
   "cell_type": "code",
   "execution_count": null,
   "id": "cabd5ce8",
   "metadata": {},
   "outputs": [],
   "source": [
    "# データと予測値の可視化\n",
    "plt.figure(figsize=(8, 4))\n",
    "X = X_train.values.flatten()\n",
    "y = y_train.values\n",
    "\n",
    "X_plt = np.arange(X.min(), X.max(), 0.01)[:, np.newaxis]\n",
    "y_pred = model.predict(X_plt)\n",
    "\n",
    "plt.scatter(X, y, color=\"blue\", label=\"data\")\n",
    "plt.plot(X_plt, y_pred, color=\"red\", label=\"LightGBM\")\n",
    "plt.ylabel(\"Price in $1000s [MDEV]\")\n",
    "plt.xlabel(\"average number of rooms [RM]\")\n",
    "plt.title(\"Boston house-prices\")\n",
    "plt.legend(loc=\"upper right\")\n",
    "plt.show()"
   ]
  },
  {
   "cell_type": "code",
   "execution_count": null,
   "id": "d1b93bb4",
   "metadata": {},
   "outputs": [],
   "source": [
    "# LightGBM回帰の学習→予測→評価"
   ]
  },
  {
   "cell_type": "code",
   "execution_count": null,
   "id": "27c02bf8",
   "metadata": {},
   "outputs": [],
   "source": [
    "%matplotlib inline\n",
    "import matplotlib.pyplot as plt\n",
    "import numpy as np\n",
    "import pandas as pd\n",
    "from sklearn.model_selection import train_test_split\n",
    "from sklearn.metrics import mean_squared_error, root_mean_squared_error"
   ]
  },
  {
   "cell_type": "code",
   "execution_count": null,
   "id": "67509dee",
   "metadata": {},
   "outputs": [],
   "source": [
    "df = pd.read_csv(\n",
    "    \"https://archive.ics.uci.edu/ml/machine-learning-databases/housing/housing.data\",\n",
    "    header=None,\n",
    "    sep=\"\\s+\",\n",
    ")\n",
    "df.columns = [\n",
    "    \"CRIM\",\n",
    "    \"ZN\",\n",
    "    \"INDUS\",\n",
    "    \"CHAS\",\n",
    "    \"NOX\",\n",
    "    \"RM\",\n",
    "    \"AGE\",\n",
    "    \"DIS\",\n",
    "    \"RAD\",\n",
    "    \"TAX\",\n",
    "    \"PTRATIO\",\n",
    "    \"B\",\n",
    "    \"LSTAT\",\n",
    "    \"MEDV\",\n",
    "]\n",
    "df.head()"
   ]
  },
  {
   "cell_type": "code",
   "execution_count": null,
   "id": "44ede9da",
   "metadata": {},
   "outputs": [],
   "source": [
    "X = df.drop([\"MEDV\"], axis=1)\n",
    "y = df[\"MEDV\"]\n",
    "X.head()"
   ]
  },
  {
   "cell_type": "code",
   "execution_count": null,
   "id": "065a4f6b",
   "metadata": {},
   "outputs": [],
   "source": [
    "# 学習データとテストデータに分割\n",
    "from numpy import test\n",
    "\n",
    "X_train, X_test, y_train, y_test = train_test_split(\n",
    "    X, y, test_size=0.2, shuffle=True, random_state=0\n",
    ")\n",
    "print(\"X_trainの形状:\", X_train.shape)\n",
    "print(\"y_trainの形状:\", y_train.shape)\n",
    "print(\"X_testの形状:\", X_test.shape)\n",
    "print(\"y_testの形状:\", y_test.shape)"
   ]
  },
  {
   "cell_type": "code",
   "execution_count": null,
   "id": "00849fa0",
   "metadata": {},
   "outputs": [],
   "source": [
    "# ハイパーパラメータの設定\n",
    "import lightgbm as lgb\n",
    "\n",
    "lgb_train = lgb.Dataset(X_train, y_train)\n",
    "params = {\n",
    "    \"objective\": \"mse\",\n",
    "    \"num_leaves\": 5,\n",
    "    \"seed\": 0,\n",
    "    \"verbose\": -1,\n",
    "}"
   ]
  },
  {
   "cell_type": "code",
   "execution_count": null,
   "id": "8dfa1e55",
   "metadata": {},
   "outputs": [],
   "source": [
    "# モデルの学習\n",
    "model = lgb.train(\n",
    "    params,\n",
    "    lgb_train,\n",
    "    num_boost_round=50,\n",
    "    valid_sets=[lgb_train],\n",
    "    valid_names=[\"train\"],\n",
    "    callbacks=[lgb.log_evaluation(10)],\n",
    ")"
   ]
  },
  {
   "cell_type": "code",
   "execution_count": null,
   "id": "fd3daff5",
   "metadata": {},
   "outputs": [],
   "source": [
    "# 学習データの予測と評価\n",
    "y_test_pred = model.predict(X_test)\n",
    "print(\"RMSE test: %.2f\" % root_mean_squared_error(y_test, y_test_pred))"
   ]
  },
  {
   "cell_type": "code",
   "execution_count": null,
   "id": "1deeecf4",
   "metadata": {},
   "outputs": [],
   "source": [
    "# 特徴量の重要度の可視化\n",
    "importances = model.feature_importance(importance_type=\"gain\")\n",
    "indices = np.argsort(importances)[::-1]\n",
    "\n",
    "plt.figure(figsize=(8, 4))\n",
    "plt.title(\"Feature importances\")\n",
    "plt.bar(range(len(indices)), importances[indices])\n",
    "plt.xticks(range(len(indices)), X.columns[indices], rotation=90)\n",
    "plt.show()"
   ]
  },
  {
   "cell_type": "code",
   "execution_count": null,
   "id": "4e9c86d8",
   "metadata": {},
   "outputs": [],
   "source": [
    "# 木の可視化\n",
    "lgb.plot_tree(model, tree_index=0, figsize=(10, 10))"
   ]
  },
  {
   "cell_type": "code",
   "execution_count": null,
   "id": "38b804ca",
   "metadata": {},
   "outputs": [],
   "source": [
    "# 木の可視化\n",
    "lgb.plot_tree(model, tree_index=-1, figsize=(10, 10))"
   ]
  },
  {
   "cell_type": "code",
   "execution_count": null,
   "id": "b993b082",
   "metadata": {},
   "outputs": [],
   "source": [
    "# explainerの作成\n",
    "import shap\n",
    "\n",
    "explainer = shap.TreeExplainer(model=model, feature_perturbation=\"tree_path_dependent\")"
   ]
  },
  {
   "cell_type": "code",
   "execution_count": null,
   "id": "e971a25e",
   "metadata": {},
   "outputs": [],
   "source": [
    "# SHAP値の計算\n",
    "shap_values = explainer(X_test)"
   ]
  },
  {
   "cell_type": "code",
   "execution_count": null,
   "id": "86954bb5",
   "metadata": {},
   "outputs": [],
   "source": [
    "# 全件レコードの期待値\n",
    "explainer.expected_value"
   ]
  },
  {
   "cell_type": "code",
   "execution_count": null,
   "id": "b7a1d3c7",
   "metadata": {},
   "outputs": [],
   "source": [
    "y_test_pred"
   ]
  },
  {
   "cell_type": "code",
   "execution_count": null,
   "id": "b89b37d0",
   "metadata": {},
   "outputs": [],
   "source": [
    "# 15件目のSHAP値\n",
    "shap_values[14]"
   ]
  },
  {
   "cell_type": "code",
   "execution_count": null,
   "id": "f8ca44d7",
   "metadata": {},
   "outputs": [],
   "source": [
    "# 15件目の貢献度\n",
    "shap_values.values[14]"
   ]
  },
  {
   "cell_type": "code",
   "execution_count": null,
   "id": "6d16437b",
   "metadata": {},
   "outputs": [],
   "source": [
    "# 期待値+15件目の貢献度合計\n",
    "shap_values[14].base_values + shap_values[14].values.sum()"
   ]
  },
  {
   "cell_type": "code",
   "execution_count": null,
   "id": "52cd0ea0",
   "metadata": {},
   "outputs": [],
   "source": [
    "# 15件目の予測値\n",
    "y_test_pred[14]"
   ]
  },
  {
   "cell_type": "code",
   "execution_count": null,
   "id": "badda84c",
   "metadata": {},
   "outputs": [],
   "source": [
    "# 15件目のSHAP値の可視化\n",
    "shap.plots.waterfall(shap_values[14])"
   ]
  },
  {
   "cell_type": "code",
   "execution_count": null,
   "id": "43f66e80",
   "metadata": {},
   "outputs": [],
   "source": [
    "# 11件目のSHAP値の可視化\n",
    "shap.plots.waterfall(shap_values[10])"
   ]
  },
  {
   "cell_type": "code",
   "execution_count": null,
   "id": "ef51219a",
   "metadata": {},
   "outputs": [],
   "source": [
    "# 特徴量重要度の可視化\n",
    "shap.plots.bar(shap_values=shap_values)"
   ]
  },
  {
   "cell_type": "code",
   "execution_count": null,
   "id": "2f7b0fb3",
   "metadata": {},
   "outputs": [],
   "source": []
  }
 ],
 "metadata": {
  "kernelspec": {
   "display_name": "Python 3",
   "language": "python",
   "name": "python3"
  },
  "language_info": {
   "codemirror_mode": {
    "name": "ipython",
    "version": 3
   },
   "file_extension": ".py",
   "mimetype": "text/x-python",
   "name": "python",
   "nbconvert_exporter": "python",
   "pygments_lexer": "ipython3",
   "version": "3.10.13"
  }
 },
 "nbformat": 4,
 "nbformat_minor": 5
}
