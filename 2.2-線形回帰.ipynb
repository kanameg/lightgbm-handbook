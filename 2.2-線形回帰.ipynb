{
 "cells": [
  {
   "cell_type": "code",
   "execution_count": null,
   "id": "d995b34d",
   "metadata": {},
   "outputs": [],
   "source": [
    "!lscpu"
   ]
  },
  {
   "cell_type": "code",
   "execution_count": null,
   "id": "6d80316a",
   "metadata": {},
   "outputs": [],
   "source": [
    "%matplotlib inline\n",
    "import matplotlib.pyplot as plt\n",
    "import numpy as np\n",
    "import pandas as pd\n",
    "from sklearn.metrics import mean_squared_error"
   ]
  },
  {
   "cell_type": "code",
   "execution_count": null,
   "id": "873a393e",
   "metadata": {},
   "outputs": [],
   "source": [
    "df = pd.read_csv(\n",
    "    \"https://archive.ics.uci.edu/ml/machine-learning-databases/housing/housing.data\",\n",
    "    header=None,\n",
    "    sep=\"\\s+\",\n",
    ")\n",
    "df.columns = [\n",
    "    \"CRIM\",\n",
    "    \"ZN\",\n",
    "    \"INDUS\",\n",
    "    \"CHAS\",\n",
    "    \"NOX\",\n",
    "    \"RM\",\n",
    "    \"AGE\",\n",
    "    \"DIS\",\n",
    "    \"RAD\",\n",
    "    \"TAX\",\n",
    "    \"PTRATIO\",\n",
    "    \"B\",\n",
    "    \"LSTAT\",\n",
    "    \"MEDV\",\n",
    "]\n",
    "df.head()"
   ]
  },
  {
   "cell_type": "code",
   "execution_count": null,
   "id": "4b570e26",
   "metadata": {},
   "outputs": [],
   "source": [
    "X_train = df.loc[:99, [\"RM\"]]\n",
    "y_train = df.loc[:99, \"MEDV\"]\n",
    "print(\"X_train:\", X_train[:3])\n",
    "print(\"y_train:\", y_train[:3])"
   ]
  },
  {
   "cell_type": "code",
   "execution_count": null,
   "id": "7fc328e3",
   "metadata": {},
   "outputs": [],
   "source": [
    "# 線形回帰\n",
    "# モデルの学習\n",
    "from sklearn.linear_model import LinearRegression\n",
    "\n",
    "model = LinearRegression()\n",
    "model.fit(X_train, y_train)\n",
    "model.get_params()"
   ]
  },
  {
   "cell_type": "code",
   "execution_count": null,
   "id": "909875b9",
   "metadata": {},
   "outputs": [],
   "source": [
    "# 予測値\n",
    "model.predict(X_train)"
   ]
  },
  {
   "cell_type": "code",
   "execution_count": null,
   "id": "cabd5ce8",
   "metadata": {},
   "outputs": [],
   "source": [
    "# データと予測値の可視化\n",
    "plt.figure(figsize=(8, 4))\n",
    "X = X_train.values.flatten()\n",
    "y = y_train.values\n",
    "\n",
    "X_plt = np.arange(X.min(), X.max(), 0.01)[:, np.newaxis]\n",
    "y_plt = model.predict(X_plt)\n",
    "\n",
    "plt.scatter(X, y, color=\"blue\", label=\"data\")\n",
    "plt.plot(X_plt, y_plt, color=\"red\", label=\"LinearRegression\")\n",
    "plt.ylabel(\"Price in $1000s [MDEV]\")\n",
    "plt.xlabel(\"average number of rooms [RM]\")\n",
    "plt.title(\"Boston house-prices\")\n",
    "plt.legend(loc=\"upper right\")\n",
    "plt.show()"
   ]
  },
  {
   "cell_type": "code",
   "execution_count": null,
   "id": "49f1470d",
   "metadata": {},
   "outputs": [],
   "source": [
    "# パラメータ\n",
    "print(\"傾き w1:\", model.coef_[0])\n",
    "print(\"切片 w0:\", model.intercept_)"
   ]
  },
  {
   "cell_type": "markdown",
   "id": "537fafb7",
   "metadata": {},
   "source": [
    "---"
   ]
  },
  {
   "cell_type": "code",
   "execution_count": null,
   "id": "7286f197",
   "metadata": {},
   "outputs": [],
   "source": [
    "%matplotlib inline\n",
    "import matplotlib.pyplot as plt\n",
    "import numpy as np\n",
    "import pandas as pd\n",
    "from sklearn.model_selection import train_test_split\n",
    "from sklearn.metrics import mean_squared_error, root_mean_squared_error"
   ]
  },
  {
   "cell_type": "code",
   "execution_count": null,
   "id": "ca01c11d",
   "metadata": {},
   "outputs": [],
   "source": [
    "df = pd.read_csv(\n",
    "    \"https://archive.ics.uci.edu/ml/machine-learning-databases/housing/housing.data\",\n",
    "    header=None,\n",
    "    sep=\"\\s+\",\n",
    ")\n",
    "df.columns = [\n",
    "    \"CRIM\",\n",
    "    \"ZN\",\n",
    "    \"INDUS\",\n",
    "    \"CHAS\",\n",
    "    \"NOX\",\n",
    "    \"RM\",\n",
    "    \"AGE\",\n",
    "    \"DIS\",\n",
    "    \"RAD\",\n",
    "    \"TAX\",\n",
    "    \"PTRATIO\",\n",
    "    \"B\",\n",
    "    \"LSTAT\",\n",
    "    \"MEDV\",\n",
    "]\n",
    "df.head()"
   ]
  },
  {
   "cell_type": "code",
   "execution_count": null,
   "id": "cd08ab86",
   "metadata": {},
   "outputs": [],
   "source": [
    "# 重回帰の学習・予測・評価\n",
    "X = df.drop([\"MEDV\"], axis=1)\n",
    "y = df[\"MEDV\"]\n",
    "X.head()"
   ]
  },
  {
   "cell_type": "code",
   "execution_count": null,
   "id": "dd34b92a",
   "metadata": {},
   "outputs": [],
   "source": [
    "# 学習データとテストデータに分割\n",
    "X_train, X_test, y_train, y_test = train_test_split(\n",
    "    X, y, test_size=0.2, shuffle=True, random_state=0\n",
    ")\n",
    "print(\"X_trainの形状:\", X_train.shape)\n",
    "print(\"y_trainの形状:\", y_train.shape)\n",
    "print(\"X_testの形状:\", X_test.shape)\n",
    "print(\"y_testの形状:\", y_test.shape)"
   ]
  },
  {
   "cell_type": "code",
   "execution_count": null,
   "id": "dfce3777",
   "metadata": {},
   "outputs": [],
   "source": [
    "# 特徴量の標準化\n",
    "from sklearn.preprocessing import StandardScaler\n",
    "\n",
    "scaler = StandardScaler()\n",
    "num_cols = df.columns[0:13]\n",
    "scaler.fit(X_train[num_cols])\n",
    "X_train[num_cols] = scaler.transform(X_train[num_cols])\n",
    "X_test[num_cols] = scaler.transform(X_test[num_cols])\n",
    "display(X_train.iloc[:2])"
   ]
  },
  {
   "cell_type": "code",
   "execution_count": null,
   "id": "cc040834",
   "metadata": {},
   "outputs": [],
   "source": [
    "# モデルの学習\n",
    "from sklearn.linear_model import LinearRegression\n",
    "\n",
    "model = LinearRegression()\n",
    "model.fit(X_train, y_train)\n",
    "model.get_params()"
   ]
  },
  {
   "cell_type": "code",
   "execution_count": null,
   "id": "e539b6ad",
   "metadata": {},
   "outputs": [],
   "source": [
    "y_test_pred = model.predict(X_test)\n",
    "print(\"RMSE test: %0.2f\" % root_mean_squared_error(y_test, y_test_pred))"
   ]
  },
  {
   "cell_type": "code",
   "execution_count": null,
   "id": "f5380d8a",
   "metadata": {},
   "outputs": [],
   "source": [
    "# テストデータの目的変数 統計情報\n",
    "y_test.describe()"
   ]
  },
  {
   "cell_type": "code",
   "execution_count": null,
   "id": "469f0a2f",
   "metadata": {},
   "outputs": [],
   "source": [
    "# パラメータによる予測値の解釈\n",
    "print(\"回帰係数 w = [w1, w2, ..., w13]:\", model.coef_)\n",
    "print(\"定数項 w0:\", model.intercept_)"
   ]
  },
  {
   "cell_type": "code",
   "execution_count": null,
   "id": "a5132992",
   "metadata": {},
   "outputs": [],
   "source": [
    "# 特徴量のテキスト表示\n",
    "X.columns"
   ]
  },
  {
   "cell_type": "code",
   "execution_count": null,
   "id": "a87b3428",
   "metadata": {},
   "outputs": [],
   "source": [
    "# 回帰係数の可視化\n",
    "importances = model.coef_\n",
    "indices = np.argsort(importances)[::-1]\n",
    "plt.figure(figsize=(8, 4))\n",
    "plt.title(\"Regression coefficient\")\n",
    "plt.bar(range(X.shape[1]), importances[indices])\n",
    "plt.xticks(range(X.shape[1]), X.columns[indices], rotation=90)\n",
    "plt.show()"
   ]
  },
  {
   "cell_type": "code",
   "execution_count": null,
   "id": "6c491f13",
   "metadata": {},
   "outputs": [],
   "source": [
    "# 予測値のリスト\n",
    "y_test_pred"
   ]
  },
  {
   "cell_type": "code",
   "execution_count": null,
   "id": "cbf05300",
   "metadata": {},
   "outputs": [],
   "source": [
    "# 15件目の予測値\n",
    "y_test_pred[14]"
   ]
  },
  {
   "cell_type": "code",
   "execution_count": null,
   "id": "10fd990e",
   "metadata": {},
   "outputs": [],
   "source": [
    "# 15件目の特徴量\n",
    "print(\"15件目の特徴量 X= [x1, x2, ..., x13]:\", X_test.values[14])"
   ]
  },
  {
   "cell_type": "code",
   "execution_count": null,
   "id": "0c90d525",
   "metadata": {},
   "outputs": [],
   "source": [
    "# 15件目予測値の検証\n",
    "np.sum(model.coef_ * X_test.values[14]) + model.intercept_"
   ]
  }
 ],
 "metadata": {
  "kernelspec": {
   "display_name": "Python 3",
   "language": "python",
   "name": "python3"
  },
  "language_info": {
   "codemirror_mode": {
    "name": "ipython",
    "version": 3
   },
   "file_extension": ".py",
   "mimetype": "text/x-python",
   "name": "python",
   "nbconvert_exporter": "python",
   "pygments_lexer": "ipython3",
   "version": "3.10.13"
  }
 },
 "nbformat": 4,
 "nbformat_minor": 5
}
