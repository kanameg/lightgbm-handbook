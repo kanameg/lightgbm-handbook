{
 "cells": [
  {
   "cell_type": "code",
   "execution_count": null,
   "id": "6d80316a",
   "metadata": {},
   "outputs": [],
   "source": [
    "%matplotlib inline\n",
    "import matplotlib.pyplot as plt\n",
    "import numpy as np\n",
    "import seaborn as sns\n",
    "import pandas as pd\n",
    "from sklearn.model_selection import train_test_split\n",
    "from sklearn.metrics import accuracy_score, precision_score, recall_score, f1_score, confusion_matrix"
   ]
  },
  {
   "cell_type": "code",
   "execution_count": null,
   "id": "873a393e",
   "metadata": {},
   "outputs": [],
   "source": [
    "# データセットの読み込み\n",
    "df = pd.read_csv(\n",
    "    \"https://archive.ics.uci.edu/ml/machine-learning-databases/adult/adult.data\",\n",
    "    header=None,\n",
    ")\n",
    "df.columns = [\n",
    "    \"age\",\n",
    "    \"workclass\",\n",
    "    \"fnlwgt\",\n",
    "    \"education\",\n",
    "    \"education-num\",\n",
    "    \"marital-status\",\n",
    "    \"occupation\",\n",
    "    \"relationship\",\n",
    "    \"race\",\n",
    "    \"gender\",\n",
    "    \"capital-gain\",\n",
    "    \"capital-loss\",\n",
    "    \"hours-per-week\",\n",
    "    \"native-country\",\n",
    "    \"income\",\n",
    "]\n",
    "df.head()"
   ]
  },
  {
   "cell_type": "code",
   "execution_count": null,
   "id": "3c19f9ad",
   "metadata": {},
   "outputs": [],
   "source": [
    "# データの形状\n",
    "df.shape"
   ]
  },
  {
   "cell_type": "code",
   "execution_count": null,
   "id": "d42294be",
   "metadata": {},
   "outputs": [],
   "source": [
    "# 欠損データの有無\n",
    "df.isnull().sum()"
   ]
  },
  {
   "cell_type": "code",
   "execution_count": null,
   "id": "561f0bfc",
   "metadata": {},
   "outputs": [],
   "source": [
    "# データの概要\n",
    "df.info()"
   ]
  },
  {
   "cell_type": "code",
   "execution_count": null,
   "id": "40864613",
   "metadata": {},
   "outputs": [],
   "source": [
    "# 数値変数のEDA\n",
    "# 数値の要約統計量\n",
    "df.describe().T"
   ]
  },
  {
   "cell_type": "code",
   "execution_count": null,
   "id": "2096e772",
   "metadata": {},
   "outputs": [],
   "source": [
    "# カテゴリ変数の要約統計量\n",
    "df.describe(exclude=\"number\").T"
   ]
  },
  {
   "cell_type": "code",
   "execution_count": null,
   "id": "a877b0cd",
   "metadata": {},
   "outputs": [],
   "source": [
    "# データの前処理"
   ]
  },
  {
   "cell_type": "code",
   "execution_count": null,
   "id": "5892eae0",
   "metadata": {},
   "outputs": [],
   "source": [
    "# 半角スペースの削除\n",
    "cat_cols = df.select_dtypes(include=[\"object\"]).columns\n",
    "\n",
    "for col in cat_cols:\n",
    "    df[col] = df[col].str.replace(\" \", \"\")"
   ]
  },
  {
   "cell_type": "code",
   "execution_count": null,
   "id": "19c1d572",
   "metadata": {},
   "outputs": [],
   "source": [
    "# カテゴリ変数のリスト表示\n",
    "for col in cat_cols:\n",
    "    print(f\"{col}: {list(df[col].unique())}\")"
   ]
  },
  {
   "cell_type": "code",
   "execution_count": null,
   "id": "94bc6a8d",
   "metadata": {},
   "outputs": [],
   "source": [
    "# レコードの絞り込み（United-Statesのみ）\n",
    "df = df[df[\"native-country\"] == \"United-States\"]\n",
    "df = df.drop(columns=[\"native-country\"], axis=1)\n",
    "df.reset_index(drop=True, inplace=True)\n",
    "df.shape"
   ]
  },
  {
   "cell_type": "code",
   "execution_count": null,
   "id": "23cc79b9",
   "metadata": {},
   "outputs": [],
   "source": [
    "# 正解ラベルの作成\n",
    "df[\"income\"] = df[\"income\"].apply(lambda x: 1 if x == \">50K\" else 0)"
   ]
  },
  {
   "cell_type": "code",
   "execution_count": null,
   "id": "14a94924",
   "metadata": {},
   "outputs": [],
   "source": [
    "# データセットの確認\n",
    "print(df.shape)\n",
    "df.head()"
   ]
  },
  {
   "cell_type": "code",
   "execution_count": null,
   "id": "fbe693de",
   "metadata": {},
   "outputs": [],
   "source": [
    "# 特徴量と正解ラベルの分割\n",
    "X = df.drop(columns=[\"income\"], axis=1)\n",
    "y = df[\"income\"]"
   ]
  },
  {
   "cell_type": "code",
   "execution_count": null,
   "id": "9f347c5e",
   "metadata": {},
   "outputs": [],
   "source": [
    "# 学習データとテストデータの分割\n",
    "X_train, X_test, y_train, y_test = train_test_split(\n",
    "    X, y, test_size=0.2, shuffle=True, random_state=0, stratify=y\n",
    ")\n",
    "print(\"X_trainの形状:\", X_train.shape)\n",
    "print(\"y_trainの形状:\", y_train.shape)\n",
    "print(\"X_testの形状:\", X_test.shape)\n",
    "print(\"y_testの形状:\", y_test.shape)"
   ]
  },
  {
   "cell_type": "code",
   "execution_count": null,
   "id": "77243387",
   "metadata": {},
   "outputs": [],
   "source": [
    "# カテゴリ変数のラベルエンコーディング\n",
    "from sklearn.preprocessing import LabelEncoder\n",
    "\n",
    "cat_cols = X.select_dtypes(include=[\"object\"]).columns\n",
    "for col in cat_cols:\n",
    "    le = LabelEncoder()\n",
    "    le.fit(X_train[col])\n",
    "    X_train[col] = le.transform(X_train[col])\n",
    "    X_test[col] = le.transform(X_test[col])"
   ]
  },
  {
   "cell_type": "code",
   "execution_count": null,
   "id": "3678901d",
   "metadata": {},
   "outputs": [],
   "source": [
    "# カテゴリ変数のデータ型をcategoryに変換\n",
    "for col in cat_cols:\n",
    "    X_train[col] = X_train[col].astype(\"category\")\n",
    "    X_test[col] = X_test[col].astype(\"category\")\n",
    "X_train.info()"
   ]
  },
  {
   "cell_type": "code",
   "execution_count": null,
   "id": "3eef7283",
   "metadata": {},
   "outputs": [],
   "source": [
    "# ハイパーパラメータの設定\n",
    "import lightgbm as lgb\n",
    "\n",
    "lgb_train = lgb.Dataset(X_train, y_train)\n",
    "\n",
    "params = {\n",
    "    \"objective\": \"binary\",\n",
    "    \"num_leaves\": 5,\n",
    "    \"seed\": 0,\n",
    "    \"verbose\": -1,\n",
    "}"
   ]
  },
  {
   "cell_type": "code",
   "execution_count": null,
   "id": "339e33ab",
   "metadata": {},
   "outputs": [],
   "source": [
    "# モデルの学習\n",
    "model = lgb.train(\n",
    "    params,\n",
    "    lgb_train,\n",
    "    num_boost_round=500,\n",
    "    valid_sets=[lgb_train],\n",
    "    valid_names=[\"train\"],\n",
    "    callbacks=[lgb.log_evaluation(100)],\n",
    ")"
   ]
  },
  {
   "cell_type": "code",
   "execution_count": null,
   "id": "2d7f0de2",
   "metadata": {},
   "outputs": [],
   "source": [
    "# テストデータでの予測と評価\n",
    "y_test_pred_proba = model.predict(X_test)\n",
    "print(f\"ラベル1の確率：{y_test_pred_proba}\")\n",
    "y_test_pred = np.round(y_test_pred_proba)\n",
    "print(f\"予測ラベル：{y_test_pred}\")\n",
    "\n",
    "ac_score = accuracy_score(y_test, y_test_pred)\n",
    "print(f\"Accuracy: {ac_score:.2f}\")\n",
    "f1_score = f1_score(y_test, y_test_pred)\n",
    "print(f\"F1 Score: {f1_score:.2f}\")"
   ]
  },
  {
   "cell_type": "code",
   "execution_count": null,
   "id": "47db63d8",
   "metadata": {},
   "outputs": [],
   "source": [
    "# 混同行列の作成\n",
    "cm = confusion_matrix(y_test, y_test_pred)\n",
    "plt.figure(figsize=(6, 4))\n",
    "sns.heatmap(cm, annot=True, fmt=\"d\", cmap=\"Blues\")\n",
    "plt.xlabel(\"Predicted Label\")\n",
    "plt.ylabel(\"True Label\")\n",
    "plt.show()"
   ]
  },
  {
   "cell_type": "code",
   "execution_count": null,
   "id": "d556f8ee",
   "metadata": {},
   "outputs": [],
   "source": [
    "# 1本目の木の可視化\n",
    "lgb.plot_tree(model, tree_index=0, figsize=(20, 20))"
   ]
  },
  {
   "cell_type": "code",
   "execution_count": null,
   "id": "57b7744c",
   "metadata": {},
   "outputs": [],
   "source": [
    "# SHAPによる予測値の説明"
   ]
  },
  {
   "cell_type": "code",
   "execution_count": null,
   "id": "dfc764d0",
   "metadata": {},
   "outputs": [],
   "source": [
    "# 5832件目の予測値を説明\n",
    "y_test_pred_proba[-3]"
   ]
  },
  {
   "cell_type": "code",
   "execution_count": null,
   "id": "adf3d19a",
   "metadata": {},
   "outputs": [],
   "source": [
    "# explainerの作成\n",
    "import shap\n",
    "\n",
    "explainer = shap.TreeExplainer(model=model, feature_perturbation=\"tree_path_dependent\")"
   ]
  },
  {
   "cell_type": "code",
   "execution_count": null,
   "id": "e081bc0d",
   "metadata": {},
   "outputs": [],
   "source": [
    "# SHAP値の計算\n",
    "shap_values = explainer(X_test)"
   ]
  },
  {
   "cell_type": "code",
   "execution_count": null,
   "id": "fd76d26c",
   "metadata": {},
   "outputs": [],
   "source": [
    "# 全件レコードの期待値\n",
    "explainer.expected_value"
   ]
  },
  {
   "cell_type": "code",
   "execution_count": null,
   "id": "20bec8e7",
   "metadata": {},
   "outputs": [],
   "source": [
    "# 最後からの3件目のSHAP値\n",
    "shap_values[-3]"
   ]
  },
  {
   "cell_type": "code",
   "execution_count": null,
   "id": "47c7ec76",
   "metadata": {},
   "outputs": [],
   "source": [
    "# shap_valuesのラベル1の絞り込み\n",
    "shap_values.values = shap_values.values  # 貢献度\n",
    "shap_values.base_values = explainer.expected_value  # 期待値"
   ]
  },
  {
   "cell_type": "code",
   "execution_count": null,
   "id": "9fa7d954",
   "metadata": {},
   "outputs": [],
   "source": [
    "# 最後から3件目のSHAP値 ラベル1\n",
    "shap_values[-3]"
   ]
  },
  {
   "cell_type": "code",
   "execution_count": null,
   "id": "949f524f",
   "metadata": {},
   "outputs": [],
   "source": [
    "# 最後から3件目の貢献度\n",
    "shap_values.values[-3]"
   ]
  },
  {
   "cell_type": "code",
   "execution_count": null,
   "id": "1a18f78e",
   "metadata": {},
   "outputs": [],
   "source": [
    "# 最後から3件目の貢献度合計\n",
    "shap_values.values[-3].sum()"
   ]
  },
  {
   "cell_type": "code",
   "execution_count": null,
   "id": "8469be85",
   "metadata": {},
   "outputs": [],
   "source": [
    "# 期待値+最後から3件目の貢献度合計\n",
    "shap_values[-3].base_values + shap_values.values[-3].sum()"
   ]
  },
  {
   "cell_type": "code",
   "execution_count": null,
   "id": "631c763c",
   "metadata": {},
   "outputs": [],
   "source": [
    "# 最後から3件目のラベル1の確率\n",
    "logit = shap_values[-3].base_values + shap_values.values[-3].sum()\n",
    "\n",
    "\n",
    "def sigmoid(z):\n",
    "    return 1 / (1 + np.exp(-z))\n",
    "\n",
    "\n",
    "sigmoid(logit)"
   ]
  },
  {
   "cell_type": "code",
   "execution_count": null,
   "id": "d9c9f477",
   "metadata": {},
   "outputs": [],
   "source": [
    "y_test_pred_proba[-3]  # ラベル1の確率"
   ]
  },
  {
   "cell_type": "code",
   "execution_count": null,
   "id": "b7a246f8",
   "metadata": {},
   "outputs": [],
   "source": [
    "# 最後から3番目のSHAP値の可視化\n",
    "shap.plots.waterfall(shap_values[-3])"
   ]
  },
  {
   "cell_type": "code",
   "execution_count": null,
   "id": "58fb80fd",
   "metadata": {},
   "outputs": [],
   "source": [
    "# 重要度の可視化\n",
    "shap.plots.bar(shap_values=shap_values)"
   ]
  },
  {
   "cell_type": "code",
   "execution_count": null,
   "id": "3297d822",
   "metadata": {},
   "outputs": [],
   "source": []
  }
 ],
 "metadata": {
  "kernelspec": {
   "display_name": "Python 3",
   "language": "python",
   "name": "python3"
  },
  "language_info": {
   "codemirror_mode": {
    "name": "ipython",
    "version": 3
   },
   "file_extension": ".py",
   "mimetype": "text/x-python",
   "name": "python",
   "nbconvert_exporter": "python",
   "pygments_lexer": "ipython3",
   "version": "3.10.13"
  }
 },
 "nbformat": 4,
 "nbformat_minor": 5
}
