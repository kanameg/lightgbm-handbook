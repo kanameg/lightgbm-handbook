{
 "cells": [
  {
   "cell_type": "code",
   "execution_count": 1,
   "id": "5630826f",
   "metadata": {},
   "outputs": [],
   "source": [
    "%matplotlib inline\n",
    "import matplotlib.pyplot as plt\n",
    "import numpy as np\n",
    "import seaborn as sns\n",
    "import pandas as pd\n",
    "from sklearn.model_selection import train_test_split\n",
    "from sklearn.metrics import accuracy_score, precision_score, recall_score, f1_score, confusion_matrix"
   ]
  },
  {
   "cell_type": "code",
   "execution_count": null,
   "id": "7a91ed41",
   "metadata": {},
   "outputs": [],
   "source": [
    "# データセットの読み込み\n",
    "df = pd.read_csv(\n",
    "    \"https://archive.ics.uci.edu/ml/machine-learning-databases/adult/adult.data\",\n",
    "    header=None,\n",
    ")\n",
    "df.columns = [\n",
    "    \"age\",\n",
    "    \"workclass\",\n",
    "    \"fnlwgt\",\n",
    "    \"education\",\n",
    "    \"education-num\",\n",
    "    \"marital-status\",\n",
    "    \"occupation\",\n",
    "    \"relationship\",\n",
    "    \"race\",\n",
    "    \"gender\",\n",
    "    \"capital-gain\",\n",
    "    \"capital-loss\",\n",
    "    \"hours-per-week\",\n",
    "    \"native-country\",\n",
    "    \"income\",\n",
    "]"
   ]
  },
  {
   "cell_type": "code",
   "execution_count": null,
   "id": "ffc181bb",
   "metadata": {},
   "outputs": [],
   "source": [
    "# 半角スペースの削除\n",
    "cat_cols = df.select_dtypes(include=[\"object\"]).columns\n",
    "\n",
    "for col in cat_cols:\n",
    "    df[col] = df[col].str.replace(\" \", \"\")"
   ]
  },
  {
   "cell_type": "code",
   "execution_count": null,
   "id": "b356afd4",
   "metadata": {},
   "outputs": [
    {
     "data": {
      "text/plain": [
       "(29170, 14)"
      ]
     },
     "execution_count": 5,
     "metadata": {},
     "output_type": "execute_result"
    }
   ],
   "source": [
    "# レコードの絞り込み（United-Statesのみ）\n",
    "df = df[df[\"native-country\"] == \"United-States\"]\n",
    "df = df.drop(columns=[\"native-country\"], axis=1)\n",
    "df.reset_index(drop=True, inplace=True)\n",
    "df.shape"
   ]
  },
  {
   "cell_type": "code",
   "execution_count": null,
   "id": "543e08c3",
   "metadata": {},
   "outputs": [],
   "source": [
    "# 正解ラベルの作成\n",
    "df[\"income\"] = df[\"income\"].apply(lambda x: 1 if x == \">50K\" else 0)"
   ]
  },
  {
   "cell_type": "code",
   "execution_count": null,
   "id": "b475b55e",
   "metadata": {},
   "outputs": [],
   "source": [
    "# 特徴量と正解ラベルの分割\n",
    "X = df.drop(columns=[\"income\"], axis=1)\n",
    "y = df[\"income\"]"
   ]
  },
  {
   "cell_type": "code",
   "execution_count": null,
   "id": "d19b7b7a",
   "metadata": {},
   "outputs": [
    {
     "name": "stdout",
     "output_type": "stream",
     "text": [
      "X_trainの形状: (23336, 13)\n",
      "y_trainの形状: (23336,)\n",
      "X_testの形状: (5834, 13)\n",
      "y_testの形状: (5834,)\n"
     ]
    }
   ],
   "source": [
    "# 学習データとテストデータの分割\n",
    "X_train, X_test, y_train, y_test = train_test_split(\n",
    "    X, y, test_size=0.2, shuffle=True, random_state=0, stratify=y\n",
    ")\n",
    "print(\"X_trainの形状:\", X_train.shape)\n",
    "print(\"y_trainの形状:\", y_train.shape)\n",
    "print(\"X_testの形状:\", X_test.shape)\n",
    "print(\"y_testの形状:\", y_test.shape)"
   ]
  },
  {
   "cell_type": "code",
   "execution_count": null,
   "id": "7a8c15f3",
   "metadata": {},
   "outputs": [],
   "source": [
    "# カテゴリ変数のラベルエンコーディング\n",
    "from sklearn.preprocessing import LabelEncoder\n",
    "\n",
    "cat_cols = X.select_dtypes(include=[\"object\"]).columns\n",
    "for col in cat_cols:\n",
    "    le = LabelEncoder()\n",
    "    le.fit(X_train[col])\n",
    "    X_train[col] = le.transform(X_train[col])\n",
    "    X_test[col] = le.transform(X_test[col])\n",
    "\n",
    "    X_train[col] = X_train[col].astype(\"category\")\n",
    "    X_test[col] = X_test[col].astype(\"category\")"
   ]
  },
  {
   "cell_type": "code",
   "execution_count": null,
   "id": "0b378fde",
   "metadata": {},
   "outputs": [
    {
     "name": "stdout",
     "output_type": "stream",
     "text": [
      "X_trの形状: (18668, 13)\n",
      "y_trの形状: (18668,)\n",
      "X_vaの形状: (4668, 13)\n",
      "y_vaの形状: (4668,)\n"
     ]
    }
   ],
   "source": [
    "# 学習データの20%を検証データに分割\n",
    "X_tr, X_va, y_tr, y_va = train_test_split(\n",
    "    X_train, y_train, test_size=0.2, shuffle=True, random_state=0, stratify=y_train\n",
    ")\n",
    "print(\"X_trの形状:\", X_tr.shape)\n",
    "print(\"y_trの形状:\", y_tr.shape)\n",
    "print(\"X_vaの形状:\", X_va.shape)\n",
    "print(\"y_vaの形状:\", y_va.shape)"
   ]
  },
  {
   "cell_type": "code",
   "execution_count": null,
   "id": "411c9796",
   "metadata": {},
   "outputs": [],
   "source": [
    "import lightgbm as lgb\n",
    "\n",
    "lgb_train = lgb.Dataset(X_tr, label=y_tr)\n",
    "lgb_eval = lgb.Dataset(X_va, label=y_va, reference=lgb_train)\n",
    "\n",
    "params = {\"objective\": \"binary\", \"num_leaves\": 5, \"seed\": 0, \"verbose\": -1}\n",
    "\n",
    "# 誤差プロットの格納用データ\n",
    "evals_result = {}"
   ]
  },
  {
   "cell_type": "code",
   "execution_count": null,
   "id": "cb8315cc",
   "metadata": {},
   "outputs": [
    {
     "name": "stdout",
     "output_type": "stream",
     "text": [
      "Training until validation scores don't improve for 10 rounds\n",
      "[100]\ttraining's binary_logloss: 0.285093\tvalid_1's binary_logloss: 0.297689\n",
      "[200]\ttraining's binary_logloss: 0.271357\tvalid_1's binary_logloss: 0.291118\n",
      "Early stopping, best iteration is:\n",
      "[200]\ttraining's binary_logloss: 0.271357\tvalid_1's binary_logloss: 0.291118\n"
     ]
    }
   ],
   "source": [
    "# モデルの学習\n",
    "model = lgb.train(\n",
    "    params,\n",
    "    lgb_train,\n",
    "    num_boost_round=500,\n",
    "    valid_sets=[lgb_train, lgb_eval],\n",
    "    callbacks=[\n",
    "        lgb.early_stopping(10),\n",
    "        lgb.log_evaluation(100),\n",
    "        lgb.record_evaluation(evals_result),\n",
    "    ],\n",
    ")"
   ]
  },
  {
   "cell_type": "code",
   "execution_count": null,
   "id": "5aa1d080",
   "metadata": {},
   "outputs": [
    {
     "data": {
      "text/plain": [
       "<Axes: title={'center': 'Metric during training'}, xlabel='Iterations', ylabel='binary_logloss'>"
      ]
     },
     "execution_count": 17,
     "metadata": {},
     "output_type": "execute_result"
    },
    {
     "data": {
      "image/png": "[encoded data removed]",
      "text/plain": [
       "<Figure size 640x480 with 1 Axes>"
      ]
     },
     "metadata": {},
     "output_type": "display_data"
    }
   ],
   "source": [
    "# 学習データと検証データの誤差プロット\n",
    "lgb.plot_metric(evals_result)"
   ]
  },
  {
   "cell_type": "code",
   "execution_count": null,
   "id": "4e4d59a4",
   "metadata": {},
   "outputs": [
    {
     "data": {
      "text/plain": [
       "200"
      ]
     },
     "execution_count": 18,
     "metadata": {},
     "output_type": "execute_result"
    }
   ],
   "source": [
    "# 学習が停止したブースティング回数\n",
    "model.best_iteration"
   ]
  },
  {
   "cell_type": "code",
   "execution_count": null,
   "id": "3a456ec3",
   "metadata": {},
   "outputs": [],
   "source": []
  }
 ],
 "metadata": {
  "kernelspec": {
   "display_name": "Python 3",
   "language": "python",
   "name": "python3"
  },
  "language_info": {
   "codemirror_mode": {
    "name": "ipython",
    "version": 3
   },
   "file_extension": ".py",
   "mimetype": "text/x-python",
   "name": "python",
   "nbconvert_exporter": "python",
   "pygments_lexer": "ipython3",
   "version": "3.10.13"
  }
 },
 "nbformat": 4,
 "nbformat_minor": 5
}
