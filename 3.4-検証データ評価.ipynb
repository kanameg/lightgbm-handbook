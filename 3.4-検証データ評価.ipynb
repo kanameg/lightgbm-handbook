{
 "cells": [
  {
   "cell_type": "code",
   "execution_count": null,
   "id": "5630826f",
   "metadata": {},
   "outputs": [],
   "source": [
    "%matplotlib inline\n",
    "import matplotlib.pyplot as plt\n",
    "import numpy as np\n",
    "import seaborn as sns\n",
    "import pandas as pd\n",
    "from sklearn.model_selection import train_test_split\n",
    "from sklearn.metrics import accuracy_score, precision_score, recall_score, f1_score, confusion_matrix"
   ]
  },
  {
   "cell_type": "code",
   "execution_count": null,
   "id": "7a91ed41",
   "metadata": {},
   "outputs": [],
   "source": [
    "# データセットの読み込み\n",
    "df = pd.read_csv(\n",
    "    \"https://archive.ics.uci.edu/ml/machine-learning-databases/adult/adult.data\",\n",
    "    header=None,\n",
    ")\n",
    "df.columns = [\n",
    "    \"age\",\n",
    "    \"workclass\",\n",
    "    \"fnlwgt\",\n",
    "    \"education\",\n",
    "    \"education-num\",\n",
    "    \"marital-status\",\n",
    "    \"occupation\",\n",
    "    \"relationship\",\n",
    "    \"race\",\n",
    "    \"gender\",\n",
    "    \"capital-gain\",\n",
    "    \"capital-loss\",\n",
    "    \"hours-per-week\",\n",
    "    \"native-country\",\n",
    "    \"income\",\n",
    "]"
   ]
  },
  {
   "cell_type": "code",
   "execution_count": null,
   "id": "ffc181bb",
   "metadata": {},
   "outputs": [],
   "source": [
    "# 半角スペースの削除\n",
    "cat_cols = df.select_dtypes(include=[\"object\"]).columns\n",
    "\n",
    "for col in cat_cols:\n",
    "    df[col] = df[col].str.replace(\" \", \"\")"
   ]
  },
  {
   "cell_type": "code",
   "execution_count": null,
   "id": "b356afd4",
   "metadata": {},
   "outputs": [],
   "source": [
    "# レコードの絞り込み（United-Statesのみ）\n",
    "df = df[df[\"native-country\"] == \"United-States\"]\n",
    "df = df.drop(columns=[\"native-country\"], axis=1)\n",
    "df.reset_index(drop=True, inplace=True)\n",
    "df.shape"
   ]
  },
  {
   "cell_type": "code",
   "execution_count": null,
   "id": "543e08c3",
   "metadata": {},
   "outputs": [],
   "source": [
    "# 正解ラベルの作成\n",
    "df[\"income\"] = df[\"income\"].apply(lambda x: 1 if x == \">50K\" else 0)"
   ]
  },
  {
   "cell_type": "code",
   "execution_count": null,
   "id": "b475b55e",
   "metadata": {},
   "outputs": [],
   "source": [
    "# 特徴量と正解ラベルの分割\n",
    "X = df.drop(columns=[\"income\"], axis=1)\n",
    "y = df[\"income\"]"
   ]
  },
  {
   "cell_type": "code",
   "execution_count": null,
   "id": "d19b7b7a",
   "metadata": {},
   "outputs": [],
   "source": [
    "# 学習データとテストデータの分割\n",
    "X_train, X_test, y_train, y_test = train_test_split(\n",
    "    X, y, test_size=0.2, shuffle=True, random_state=0, stratify=y\n",
    ")\n",
    "print(\"X_trainの形状:\", X_train.shape)\n",
    "print(\"y_trainの形状:\", y_train.shape)\n",
    "print(\"X_testの形状:\", X_test.shape)\n",
    "print(\"y_testの形状:\", y_test.shape)"
   ]
  },
  {
   "cell_type": "code",
   "execution_count": null,
   "id": "7a8c15f3",
   "metadata": {},
   "outputs": [],
   "source": [
    "# カテゴリ変数のラベルエンコーディング\n",
    "from sklearn.preprocessing import LabelEncoder\n",
    "\n",
    "cat_cols = X.select_dtypes(include=[\"object\"]).columns\n",
    "for col in cat_cols:\n",
    "    le = LabelEncoder()\n",
    "    le.fit(X_train[col])\n",
    "    X_train[col] = le.transform(X_train[col])\n",
    "    X_test[col] = le.transform(X_test[col])\n",
    "\n",
    "    X_train[col] = X_train[col].astype(\"category\")\n",
    "    X_test[col] = X_test[col].astype(\"category\")"
   ]
  },
  {
   "cell_type": "code",
   "execution_count": null,
   "id": "0b378fde",
   "metadata": {},
   "outputs": [],
   "source": [
    "# 学習データの20%を検証データに分割\n",
    "X_tr, X_va, y_tr, y_va = train_test_split(\n",
    "    X_train, y_train, test_size=0.2, shuffle=True, random_state=0, stratify=y_train\n",
    ")\n",
    "print(\"X_trの形状:\", X_tr.shape)\n",
    "print(\"y_trの形状:\", y_tr.shape)\n",
    "print(\"X_vaの形状:\", X_va.shape)\n",
    "print(\"y_vaの形状:\", y_va.shape)"
   ]
  },
  {
   "cell_type": "code",
   "execution_count": null,
   "id": "411c9796",
   "metadata": {},
   "outputs": [],
   "source": [
    "import lightgbm as lgb\n",
    "\n",
    "lgb_train = lgb.Dataset(X_tr, label=y_tr)\n",
    "lgb_valid = lgb.Dataset(X_va, label=y_va, reference=lgb_train)\n",
    "\n",
    "params = {\"objective\": \"binary\", \"num_leaves\": 5, \"seed\": 0, \"verbose\": -1}\n",
    "\n",
    "# 誤差プロットの格納用データ\n",
    "evals_result = {}"
   ]
  },
  {
   "cell_type": "raw",
   "id": "02ed5962",
   "metadata": {},
   "source": [
    "アーリーストッピング\n",
    "通常、学習データに対する誤差はブースティング回数が増えるにつれて減少しますが、これは過学習状態になります。そのため、学習データを学習、検証、評価用と三分割し検証データを使って評価をすると、検証データに対する誤差はあるブースティング回数を境に増加し始めます。過学習を防ぐために、検証データでの誤差が増加し始めたら学習を停止する方法をアーリーストッピングと言います。LightGBMでは、callbackへの`early_stopping`パラメータでアーリーストッピングを有効にできます。例えば、`lgb.early_stopping(10)`と設定すると、10回連続で検証データの誤差が減少しなかった場合に学習を停止します。"
   ]
  },
  {
   "cell_type": "code",
   "execution_count": null,
   "id": "cb8315cc",
   "metadata": {},
   "outputs": [],
   "source": [
    "# モデルの学習\n",
    "model = lgb.train(\n",
    "    params,\n",
    "    lgb_train,\n",
    "    num_boost_round=500,\n",
    "    valid_sets=[lgb_train, lgb_valid],\n",
    "    callbacks=[\n",
    "        lgb.early_stopping(10),\n",
    "        lgb.log_evaluation(100),\n",
    "        lgb.record_evaluation(evals_result),\n",
    "    ],\n",
    ")"
   ]
  },
  {
   "cell_type": "code",
   "execution_count": null,
   "id": "5aa1d080",
   "metadata": {},
   "outputs": [],
   "source": [
    "# 学習データと検証データの誤差プロット\n",
    "lgb.plot_metric(evals_result)"
   ]
  },
  {
   "cell_type": "code",
   "execution_count": null,
   "id": "4e4d59a4",
   "metadata": {},
   "outputs": [],
   "source": [
    "# 学習が停止したブースティング回数\n",
    "model.best_iteration"
   ]
  },
  {
   "cell_type": "code",
   "execution_count": null,
   "id": "3a456ec3",
   "metadata": {},
   "outputs": [],
   "source": [
    "# 検証データの予測と評価\n",
    "y_va_pred_proba = model.predict(X_va, num_iteration=model.best_iteration)\n",
    "print(\"ラベル1の予測確率:\", y_va_pred_proba)\n",
    "y_va_pred = np.round(y_va_pred_proba)\n",
    "print(\"ラベル1の予測値:\", y_va_pred)\n",
    "\n",
    "ac_score = accuracy_score(y_va, y_va_pred)\n",
    "print(f\"Accuracy: {ac_score:.2f}\")\n",
    "\n",
    "f1_sc = f1_score(y_va, y_va_pred)\n",
    "print(f\"F1 Score: {f1_sc:.2f}\")"
   ]
  },
  {
   "cell_type": "code",
   "execution_count": null,
   "id": "6f361b26",
   "metadata": {},
   "outputs": [],
   "source": [
    "# テストデータの予測と評価\n",
    "y_test_pred_proba = model.predict(X_test, num_iteration=model.best_iteration)\n",
    "print(\"ラベル1の予測確率:\", y_test_pred_proba)\n",
    "y_test_pred = np.round(y_test_pred_proba)\n",
    "print(\"ラベル1の予測値:\", y_test_pred)\n",
    "\n",
    "accuracy_sc = accuracy_score(y_test, y_test_pred)\n",
    "print(f\"Accuracy: {accuracy_sc:.2f}\")\n",
    "f1_sc = f1_score(y_test, y_test_pred)\n",
    "print(f\"F1 Score: {f1_sc:.2f}\")"
   ]
  },
  {
   "cell_type": "code",
   "execution_count": null,
   "id": "298a74f7",
   "metadata": {},
   "outputs": [],
   "source": [
    "# 混同行列の表示\n",
    "cm = confusion_matrix(y_test, y_test_pred)\n",
    "plt.figure(figsize=(6, 4))\n",
    "sns.heatmap(cm, annot=True, fmt=\"d\", cmap=\"Blues\")\n",
    "plt.xlabel(\"Predicted Label\")\n",
    "plt.ylabel(\"True Label\")\n",
    "plt.show()"
   ]
  },
  {
   "cell_type": "code",
   "execution_count": null,
   "id": "595df519",
   "metadata": {},
   "outputs": [],
   "source": []
  }
 ],
 "metadata": {
  "kernelspec": {
   "display_name": "Python 3",
   "language": "python",
   "name": "python3"
  },
  "language_info": {
   "codemirror_mode": {
    "name": "ipython",
    "version": 3
   },
   "file_extension": ".py",
   "mimetype": "text/x-python",
   "name": "python",
   "nbconvert_exporter": "python",
   "pygments_lexer": "ipython3",
   "version": "3.10.13"
  }
 },
 "nbformat": 4,
 "nbformat_minor": 5
}
