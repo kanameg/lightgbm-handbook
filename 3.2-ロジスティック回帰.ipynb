{
 "cells": [
  {
   "cell_type": "code",
   "execution_count": null,
   "id": "6d80316a",
   "metadata": {},
   "outputs": [],
   "source": [
    "%matplotlib inline\n",
    "import matplotlib.pyplot as plt\n",
    "import numpy as np\n",
    "import seaborn as sns\n",
    "import pandas as pd\n",
    "from sklearn.model_selection import train_test_split\n",
    "from sklearn.metrics import accuracy_score, precision_score, recall_score, f1_score, confusion_matrix"
   ]
  },
  {
   "cell_type": "code",
   "execution_count": null,
   "id": "873a393e",
   "metadata": {},
   "outputs": [],
   "source": [
    "# データセットの読み込み\n",
    "df = pd.read_csv(\n",
    "    \"https://archive.ics.uci.edu/ml/machine-learning-databases/adult/adult.data\",\n",
    "    header=None,\n",
    ")\n",
    "df.columns = [\n",
    "    \"age\",\n",
    "    \"workclass\",\n",
    "    \"fnlwgt\",\n",
    "    \"education\",\n",
    "    \"education-num\",\n",
    "    \"marital-status\",\n",
    "    \"occupation\",\n",
    "    \"relationship\",\n",
    "    \"race\",\n",
    "    \"gender\",\n",
    "    \"capital-gain\",\n",
    "    \"capital-loss\",\n",
    "    \"hours-per-week\",\n",
    "    \"native-country\",\n",
    "    \"income\",\n",
    "]\n",
    "df.head()"
   ]
  },
  {
   "cell_type": "code",
   "execution_count": null,
   "id": "3c19f9ad",
   "metadata": {},
   "outputs": [],
   "source": [
    "# データの形状\n",
    "df.shape"
   ]
  },
  {
   "cell_type": "code",
   "execution_count": null,
   "id": "d42294be",
   "metadata": {},
   "outputs": [],
   "source": [
    "# 欠損データの有無\n",
    "df.isnull().sum()"
   ]
  },
  {
   "cell_type": "code",
   "execution_count": null,
   "id": "561f0bfc",
   "metadata": {},
   "outputs": [],
   "source": [
    "# データの概要\n",
    "df.info()"
   ]
  },
  {
   "cell_type": "code",
   "execution_count": null,
   "id": "40864613",
   "metadata": {},
   "outputs": [],
   "source": [
    "# 数値変数のEDA\n",
    "# 数値の要約統計量\n",
    "df.describe().T"
   ]
  },
  {
   "cell_type": "code",
   "execution_count": null,
   "id": "2096e772",
   "metadata": {},
   "outputs": [],
   "source": [
    "# カテゴリ変数の要約統計量\n",
    "df.describe(exclude=\"number\").T"
   ]
  },
  {
   "cell_type": "code",
   "execution_count": null,
   "id": "a877b0cd",
   "metadata": {},
   "outputs": [],
   "source": [
    "# データの前処理"
   ]
  },
  {
   "cell_type": "code",
   "execution_count": null,
   "id": "5892eae0",
   "metadata": {},
   "outputs": [],
   "source": [
    "# 半角スペースの削除\n",
    "cat_cols = df.select_dtypes(include=[\"object\"]).columns\n",
    "\n",
    "for col in cat_cols:\n",
    "    df[col] = df[col].str.replace(\" \", \"\")"
   ]
  },
  {
   "cell_type": "code",
   "execution_count": null,
   "id": "19c1d572",
   "metadata": {},
   "outputs": [],
   "source": [
    "# カテゴリ変数のリスト表示\n",
    "for col in cat_cols:\n",
    "    print(f\"{col}: {list(df[col].unique())}\")"
   ]
  },
  {
   "cell_type": "code",
   "execution_count": null,
   "id": "94bc6a8d",
   "metadata": {},
   "outputs": [],
   "source": [
    "# レコードの絞り込み（United-Statesのみ）\n",
    "df = df[df[\"native-country\"] == \"United-States\"]\n",
    "df = df.drop(columns=[\"native-country\"], axis=1)\n",
    "df.reset_index(drop=True, inplace=True)\n",
    "df.shape"
   ]
  },
  {
   "cell_type": "code",
   "execution_count": null,
   "id": "23cc79b9",
   "metadata": {},
   "outputs": [],
   "source": [
    "# 正解ラベルの作成\n",
    "df[\"income\"] = df[\"income\"].apply(lambda x: 1 if x == \">50K\" else 0)"
   ]
  },
  {
   "cell_type": "code",
   "execution_count": null,
   "id": "14a94924",
   "metadata": {},
   "outputs": [],
   "source": [
    "# データセットの確認\n",
    "print(df.shape)\n",
    "df.head()"
   ]
  },
  {
   "cell_type": "code",
   "execution_count": null,
   "id": "fbe693de",
   "metadata": {},
   "outputs": [],
   "source": [
    "# 特徴量と正解ラベルの分割\n",
    "X = df.drop(columns=[\"income\"], axis=1)\n",
    "y = df[\"income\"]"
   ]
  },
  {
   "cell_type": "code",
   "execution_count": null,
   "id": "8fb28324",
   "metadata": {},
   "outputs": [],
   "source": [
    "X.describe(exclude=\"number\").T"
   ]
  },
  {
   "cell_type": "code",
   "execution_count": null,
   "id": "318ceaf8",
   "metadata": {},
   "outputs": [],
   "source": [
    "# One Hot Encodingを用いたカテゴリ変数の処理\n",
    "X = pd.concat(\n",
    "    [X, pd.get_dummies(X[\"workclass\"], prefix=\"workclass\", drop_first=True)], axis=1\n",
    ")\n",
    "X = pd.concat(\n",
    "    [X, pd.get_dummies(X[\"education\"], prefix=\"education\", drop_first=True)], axis=1\n",
    ")\n",
    "X = pd.concat(\n",
    "    [X, pd.get_dummies(X[\"marital-status\"], prefix=\"marital-status\", drop_first=True)],\n",
    "    axis=1,\n",
    ")\n",
    "X = pd.concat(\n",
    "    [X, pd.get_dummies(X[\"occupation\"], prefix=\"occupation\", drop_first=True)], axis=1\n",
    ")\n",
    "X = pd.concat(\n",
    "    [X, pd.get_dummies(X[\"relationship\"], prefix=\"relationship\", drop_first=True)],\n",
    "    axis=1,\n",
    ")\n",
    "X = pd.concat([X, pd.get_dummies(X[\"race\"], prefix=\"race\", drop_first=True)], axis=1)\n",
    "X = pd.concat(\n",
    "    [X, pd.get_dummies(X[\"gender\"], prefix=\"gender\", drop_first=True)], axis=1\n",
    ")\n",
    "X = X.drop(\n",
    "    [\n",
    "        \"workclass\",\n",
    "        \"education\",\n",
    "        \"marital-status\",\n",
    "        \"occupation\",\n",
    "        \"relationship\",\n",
    "        \"race\",\n",
    "        \"gender\",\n",
    "    ],\n",
    "    axis=1,\n",
    ")\n",
    "print(X.shape)"
   ]
  },
  {
   "cell_type": "code",
   "execution_count": null,
   "id": "4cb76363",
   "metadata": {},
   "outputs": [],
   "source": [
    "# 学習データとテストデータの分割\n",
    "X_train, X_test, y_train, y_test = train_test_split(\n",
    "    X, y, test_size=0.2, shuffle=True, random_state=0, stratify=y\n",
    ")\n",
    "print(\"X_trainの形状:\", X_train.shape)\n",
    "print(\"y_trainの形状:\", y_train.shape)\n",
    "print(\"X_testの形状:\", X_test.shape)\n",
    "print(\"y_testの形状:\", y_test.shape)"
   ]
  },
  {
   "cell_type": "code",
   "execution_count": null,
   "id": "a15cc4fd",
   "metadata": {},
   "outputs": [],
   "source": [
    "print(\"y_trainの内訳:\\n\", y_train.value_counts())\n",
    "print(\"y_testの内訳:\\n\", y_test.value_counts())"
   ]
  },
  {
   "cell_type": "code",
   "execution_count": null,
   "id": "e5d0310f",
   "metadata": {},
   "outputs": [],
   "source": [
    "# 予測ラベル0の作成\n",
    "y_test_zero = np.zeros(5834)\n",
    "y_test_zero"
   ]
  },
  {
   "cell_type": "code",
   "execution_count": null,
   "id": "0f5881cc",
   "metadata": {},
   "outputs": [],
   "source": [
    "# 特徴量の標準化\n",
    "from sklearn.preprocessing import StandardScaler\n",
    "\n",
    "scaler = StandardScaler()\n",
    "num_cols = X.select_dtypes(include=[\"float64\", \"int64\"]).columns  # 数値型の特徴量を取得\n",
    "# num_cols = X.columns[0:6]\n",
    "scaler.fit(X_train[num_cols])\n",
    "X_train[num_cols] = scaler.transform(X_train[num_cols])\n",
    "X_test[num_cols] = scaler.transform(X_test[num_cols])\n",
    "display(X_train.iloc[:2])"
   ]
  },
  {
   "cell_type": "code",
   "execution_count": null,
   "id": "0ceafa34",
   "metadata": {},
   "outputs": [],
   "source": [
    "# モデルの学習\n",
    "from sklearn.linear_model import LogisticRegression\n",
    "\n",
    "# ロジスティック回帰モデル\n",
    "model = LogisticRegression(\n",
    "    max_iter=1000,\n",
    "    multi_class=\"ovr\",\n",
    "    solver=\"liblinear\",\n",
    "    C=0.1,\n",
    "    penalty=\"l1\",\n",
    "    random_state=0,\n",
    ")\n",
    "model.fit(X_train, y_train)\n",
    "model.get_params()"
   ]
  },
  {
   "cell_type": "code",
   "execution_count": null,
   "id": "4e06bf9f",
   "metadata": {},
   "outputs": [],
   "source": [
    "# 予測確率のリスト\n",
    "model.predict_proba(X_test)"
   ]
  },
  {
   "cell_type": "code",
   "execution_count": null,
   "id": "8213d5be",
   "metadata": {},
   "outputs": [],
   "source": [
    "# 予測のラベルリスト\n",
    "model.predict(X_test)"
   ]
  },
  {
   "cell_type": "code",
   "execution_count": null,
   "id": "1e361c86",
   "metadata": {},
   "outputs": [],
   "source": [
    "y_test.values"
   ]
  },
  {
   "cell_type": "code",
   "execution_count": null,
   "id": "9b1e9d96",
   "metadata": {},
   "outputs": [],
   "source": [
    "y_test_pred = model.predict(X_test)\n",
    "ac_score = accuracy_score(y_test, y_test_pred)\n",
    "print(f\"accuracy_score: {ac_score:.2f}\")\n",
    "\n",
    "f1_score = f1_score(y_test, y_test_pred)\n",
    "print(f\"f1_score: {f1_score:.2f}\")"
   ]
  },
  {
   "cell_type": "code",
   "execution_count": null,
   "id": "46e876d7",
   "metadata": {},
   "outputs": [],
   "source": [
    "# 混同行列の作成\n",
    "cm = confusion_matrix(y_test, y_test_pred)\n",
    "plt.figure(figsize=(6, 4))\n",
    "sns.heatmap(cm, annot=True, fmt=\"d\", cmap=\"Blues\")\n",
    "plt.xlabel(\"Predicted Label\")\n",
    "plt.ylabel(\"True Label\")\n",
    "plt.show()"
   ]
  },
  {
   "cell_type": "code",
   "execution_count": null,
   "id": "7dbe7765",
   "metadata": {},
   "outputs": [],
   "source": [
    "# パラメータによる予測値の解釈"
   ]
  },
  {
   "cell_type": "code",
   "execution_count": null,
   "id": "5abe47eb",
   "metadata": {},
   "outputs": [],
   "source": [
    "print(f\"回帰係数 w = [w1, w2, ... , w59]: {model.coef_}\")\n",
    "print(\"\")\n",
    "print(f\"定数項 w0: {model.intercept_}\")"
   ]
  },
  {
   "cell_type": "code",
   "execution_count": null,
   "id": "595dc267",
   "metadata": {},
   "outputs": [],
   "source": [
    "# 特徴量表示\n",
    "X.columns"
   ]
  },
  {
   "cell_type": "code",
   "execution_count": null,
   "id": "8f4ba3e1",
   "metadata": {},
   "outputs": [],
   "source": [
    "# 回帰係数（上位30位）の可視化\n",
    "importances = model.coef_[0]  # 回帰係数\n",
    "indices = np.argsort(importances)[::-1][:30]  # 回帰係数を降順にソートし、上位30位を取得\n",
    "\n",
    "plt.figure(figsize=(10, 4))\n",
    "plt.title(\"Top 30 Features by Coefficient\")\n",
    "plt.bar(range(len(indices)), importances[indices])\n",
    "plt.xticks(range(len(indices)), X.columns[indices], rotation=90)  # 特徴量に名前を付ける\n",
    "plt.show()"
   ]
  },
  {
   "cell_type": "code",
   "execution_count": null,
   "id": "f4f5f4b6",
   "metadata": {},
   "outputs": [],
   "source": [
    "# 最後から3件目のクラス0とクラス1の予測確率\n",
    "model.predict_proba(X_test)[-3]"
   ]
  },
  {
   "cell_type": "code",
   "execution_count": null,
   "id": "bcc23724",
   "metadata": {},
   "outputs": [],
   "source": [
    "# 最後から3番目の特徴量\n",
    "print(f\"最後から3番目の特徴量 X = [x1, x2, ... ]: {X_test.values[-3]}\")"
   ]
  },
  {
   "cell_type": "code",
   "execution_count": null,
   "id": "a3e047c2",
   "metadata": {},
   "outputs": [],
   "source": [
    "# 最後から3番目のロジット\n",
    "logit = (np.dot(model.coef_, X_test.values[-3]) + model.intercept_)[0]\n",
    "logit"
   ]
  },
  {
   "cell_type": "code",
   "execution_count": null,
   "id": "a03bccc8",
   "metadata": {},
   "outputs": [],
   "source": [
    "# シグモイド関数でロジットから確率へ変換\n",
    "def sigmoid(z):\n",
    "    return 1 / (1 + np.exp(-z))\n",
    "\n",
    "\n",
    "# ロジットから確率への変換\n",
    "sigmoid(logit)"
   ]
  }
 ],
 "metadata": {
  "kernelspec": {
   "display_name": "Python 3",
   "language": "python",
   "name": "python3"
  },
  "language_info": {
   "codemirror_mode": {
    "name": "ipython",
    "version": 3
   },
   "file_extension": ".py",
   "mimetype": "text/x-python",
   "name": "python",
   "nbconvert_exporter": "python",
   "pygments_lexer": "ipython3",
   "version": "3.10.13"
  }
 },
 "nbformat": 4,
 "nbformat_minor": 5
}
